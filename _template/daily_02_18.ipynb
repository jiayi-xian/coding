{
 "cells": [
  {
   "cell_type": "code",
   "execution_count": null,
   "metadata": {},
   "outputs": [],
   "source": [
    "#Evaluation metric\n",
    "\n",
    "# ranking\n",
    "\"\"\"\n",
    "AP计算过程如下:\n",
    "假设为用户 $\\mathrm{u}_1$ 推荐了 5 条新闻, 用户喜欢 (点击了) 的新闻分别位列第1、3、5位, 则标识如下: $[1,0,1,0,1]$, 其中 0 代表用户不喜欢此条新闻, 1 代表用户喜欢此条新闻。实际上用户不仅点击了推荐给他的新闻, 也阅读了其他一些新闻, 总共的点击量为 20 , 那么 $\\mathrm{AP}_{\\mathrm{u}_1}=$ $(1 / 1+2 / 3+3 / 5) / 20=0.113$ 。其中 $1 、 3 、 5$ 代表推荐正确的新闻所在的位置, $2=1+1,3=1+1+1$, \n",
    "是累计到当前位置总共推荐正确的新闻数目, 20 是用户阅读的新闻总数。可以参考如下代码理解:                      \n",
    "原文链接：https://blog.csdn.net/YangTinTin/article/details/105152029\n",
    "def get_AP(rec_list,read_news):\n",
    "    hit=0\n",
    "    sum_=0\n",
    "    for i in range(len(rec_list)):\n",
    "    \tif rec_list[i] in read_news:\n",
    "    \t    hit+=1\n",
    "    \t    sum_+=(hit/(i+1))\n",
    "    return sum_/len(read_news\n",
    "\n",
    "\"\"\"\n",
    "\n",
    "\n",
    "def comput_AP(read_lst, rem_lst):\n",
    "    # https://lumingdong.cn/criteria-for-evaluating-recommendation-systems-in-industry.html\n",
    "    score = 0\n",
    "    hit = 0\n",
    "    for idx, rem in enumerate(rem_lst): # 相当于averaged precision@k\n",
    "        if rem in read_lst:\n",
    "            hit += 1 \n",
    "            score += hit/(idx+1) # 在前idx+1个返回结果中有多少个是真正相关的(got hit) accumulated hits(accumulated correct recommendations) divided by ranked place\n",
    "    \n",
    "    return score/hit # 或者len(read_lst) precision 是针对len(rem_lst) 即prediction而言 mean是对ground truth而言"
   ]
  },
  {
   "cell_type": "markdown",
   "metadata": {},
   "source": [
    "MAP和NDCG这两种指标是位置敏感的评价指标，总体来说可以理解为：正确推荐的item在列表中越靠前，其贡献的推荐效果越大，反之，正确推荐的item在列表中越靠后，贡献的推荐效果越小。MAP和NDCG主要的区别在于，MAP考虑的时二元相关性（1和0），NDCG可以有多种相关性的比较，相关性可以按照程度有多种取值，类似于分类与回归的关系。\n",
    "\n",
    "MAP一般应用的场景是：要么相关要么不相关，即推荐的贡献要么是0（推荐的东西用户不喜欢），要么为1（推荐的东西用户喜欢）。对于评分推荐系统，例如电影推荐系统，我们主要知道的是用户对电影的评分，喜欢还是不喜欢没那么明确地表示出来，这个时候使用NDCG这一指标是比较合适的。\n",
    "\n",
    "排序是推荐系统非常重要的一个环节, 因为把用户偏爱的物品放在前面是推荐系统的天职, 因此检测推荐系统排序能力非常重要。\n",
    "\n",
    "关于排序能力的评测指标, 我们自然会想到搜索引㹈中的排序指标, 它们在某种程度是可以应用于推荐系统发的评测, 但是会有些问题。由于推荐系统输出结果是非常个人化的, 除了用户本人, 其他人都很难替他回答哪个好哪个不好, 而搜索引擎评价搜索结果和查询相关性, 具有很强的客观属性, 可以他人代替评价。所以通常评价推荐系统排序效果很少采用搜索引擎排序指标, 比如 MAP、MRR、NDCG。推荐系统评价排序通常采用 AUC。\n",
    "\n",
    "MAP适用于大部分场景。NDCG要求细粒度的评分 又可能评分不完整\n",
    "NDCG和MAP都很适合用于搜索系统这种有客观相关性判断的标准的系统\n",
    "各种工业评价指标的优缺点：https://blog.csdn.net/u011984148/article/details/107133086\n",
    "————————————————\n",
    "原文链接：https://blog.csdn.net/YangTinTin/article/details/105152029"
   ]
  },
  {
   "cell_type": "code",
   "execution_count": null,
   "metadata": {},
   "outputs": [],
   "source": [
    "# NDCG\n",
    "\n",
    "# CG\n",
    "## sum of relevance score\n",
    "\"\"\"\n",
    "说到NDCG首先要说到CG.,即累积增益。举个栗子: 为用户推荐5个电影 M1, M2, .. M5\n",
    "$\\mathrm{CG}=\\sum_{i}^{m} \\mathrm{rel}_{i}=5+3+1+2+4=15 $\n",
    "$\\mathrm{rel}_i$ 表示电影与用户的相关性, 在这里就是用户对电影的评分。\n",
    "\"\"\"\n",
    "\n",
    "def comput_cg(rel_lst):\n",
    "    return sum(rel_kst)\n",
    "\n",
    "def compute_DCG(rel_lst):\n",
    "    return sum([(2**rel-1)/(math.log(idx+1, 2)) for idx, rel in enumerate(rel_lst)])\n",
    "\n",
    "def compute_NDCG(rel_lst):\n",
    "    DCG = compute_DCG(rel_lst)\n",
    "    DCG_ideal = compute_DCG(sorted(rel_lst, key=lambda x: -x))\n",
    "    return DCG/DCG_ideal"
   ]
  },
  {
   "cell_type": "code",
   "execution_count": null,
   "metadata": {},
   "outputs": [],
   "source": []
  }
 ],
 "metadata": {
  "language_info": {
   "name": "python"
  }
 },
 "nbformat": 4,
 "nbformat_minor": 2
}
