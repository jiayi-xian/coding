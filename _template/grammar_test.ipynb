{
 "cells": [
  {
   "cell_type": "code",
   "execution_count": 3,
   "metadata": {},
   "outputs": [],
   "source": [
    "string=  \"abdfsafdaf\"\n",
    "\n",
    "ord(\"a\") - ord(\"f\")\n",
    "s1 = [1,2,3,4,5]\n",
    "s2 = [2,3,1,2,4]\n",
    "res = [ max(i2 - i1, 0) for (i1, i2) in zip(s1, s2)]"
   ]
  },
  {
   "cell_type": "code",
   "execution_count": 4,
   "metadata": {},
   "outputs": [
    {
     "data": {
      "text/plain": [
       "[1, 1, 0, 0, 0]"
      ]
     },
     "execution_count": 4,
     "metadata": {},
     "output_type": "execute_result"
    }
   ],
   "source": [
    "res"
   ]
  },
  {
   "cell_type": "code",
   "execution_count": 4,
   "metadata": {},
   "outputs": [],
   "source": [
    "import pandas as pd\n",
    "\n",
    "df_tiktok = pd.read_csv(\"/Users/jiayixian/projects/coding/leetcode_codes/tiktok_2023_10.csv\")\n",
    "df_meta = pd.read_csv(\"/Users/jiayixian/projects/coding/leetcode_codes/meta_2023_10.csv\")\n",
    "df_undone = pd.read_csv(\"/Users/jiayixian/projects/coding/leetcode_codes/undone_union.csv\")\n",
    "\n",
    "df_tiktok[\"company\"] = \"tiktok\"\n",
    "df_meta[\"company\"] = \"meta\"\n",
    "\n",
    "def union(df1, df2, cols=[\"Number\"], difficulty = \"hard\"):\n",
    "    u = pd.concat([df1, df2]).drop_duplicates(subset=cols, keep=\"last\")\n",
    "    #res = u[u[\"Difficulty\"]==\"Hard\"]\n",
    "    return u\n",
    "\n",
    "\n",
    "\n",
    "def intersect(df1, df2, cols=[\"Number\"], difficulty = \"hard\"):\n",
    "    intersect = pd.merge(df1, df2, on=[\"Number\", \"Title\", \"Difficulty\", \"Acceptance\"])\n",
    "    #res = u[u[\"Difficulty\"]==\"Hard\"]\n",
    "    return intersect\n"
   ]
  },
  {
   "cell_type": "code",
   "execution_count": 6,
   "metadata": {},
   "outputs": [
    {
     "name": "stderr",
     "output_type": "stream",
     "text": [
      "/var/folders/87/j5x3nbdd5hv7_13lg11nc3180000gn/T/ipykernel_53169/1817268430.py:6: FutureWarning: As the xlwt package is no longer maintained, the xlwt engine will be removed in a future version of pandas. This is the only engine in pandas that supports writing in the xls format. Install openpyxl and write to an xlsx file instead. You can set the option io.excel.xls.writer to 'xlwt' to silence this warning. While this option is deprecated and will also raise a warning, it can be globally set and the warning suppressed.\n",
      "  df_union.to_excel(\"/Users/jiayixian/projects/coding/leetcode_codes/union_meta_tiktok.xls\", index=False)\n",
      "/var/folders/87/j5x3nbdd5hv7_13lg11nc3180000gn/T/ipykernel_53169/1817268430.py:7: FutureWarning: As the xlwt package is no longer maintained, the xlwt engine will be removed in a future version of pandas. This is the only engine in pandas that supports writing in the xls format. Install openpyxl and write to an xlsx file instead. You can set the option io.excel.xls.writer to 'xlwt' to silence this warning. While this option is deprecated and will also raise a warning, it can be globally set and the warning suppressed.\n",
      "  df_intersect.to_excel(\"/Users/jiayixian/projects/coding/leetcode_codes/innerjoin_meta_tiktok.xls\", index=False)\n"
     ]
    }
   ],
   "source": [
    "import numpy as np\n",
    "df_union = union(df_tiktok, df_meta)\n",
    "df_intersect = intersect(df_tiktok, df_meta)\n",
    "inter_set = set(df_intersect[\"Number\"].unique())\n",
    "df_union[\"both\"] = np.where(df_union[\"Number\"].isin(inter_set), 1, 0)\n",
    "df_union.to_excel(\"/Users/jiayixian/projects/coding/leetcode_codes/union_meta_tiktok.xls\", index=False)\n",
    "df_intersect.to_excel(\"/Users/jiayixian/projects/coding/leetcode_codes/innerjoin_meta_tiktok.xls\", index=False)"
   ]
  }
 ],
 "metadata": {
  "kernelspec": {
   "display_name": "py39",
   "language": "python",
   "name": "python3"
  },
  "language_info": {
   "codemirror_mode": {
    "name": "ipython",
    "version": 3
   },
   "file_extension": ".py",
   "mimetype": "text/x-python",
   "name": "python",
   "nbconvert_exporter": "python",
   "pygments_lexer": "ipython3",
   "version": "3.9.12"
  },
  "orig_nbformat": 4
 },
 "nbformat": 4,
 "nbformat_minor": 2
}
