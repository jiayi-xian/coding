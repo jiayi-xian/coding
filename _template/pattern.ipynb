{
 "cells": [
  {
   "cell_type": "code",
   "execution_count": 4,
   "metadata": {},
   "outputs": [
    {
     "data": {
      "text/plain": [
       "[[(3, 'cat'), (5, 'dog')], [(1, 'banana'), (2, 'apple')]]"
      ]
     },
     "execution_count": 4,
     "metadata": {},
     "output_type": "execute_result"
    }
   ],
   "source": [
    "d = {\n",
    "    'b': [(2, 'apple'), (1, 'banana')],\n",
    "    'a': [(5, 'dog'), (3, 'cat')],\n",
    "}\n",
    "\n",
    "[d[key] for key, val in sorted([(key, sorted(val)) for key, val in d.items()])]\n",
    "\n",
    "\n",
    "[sorted(d[key]) for key, val in sorted(d.items())]\n",
    "# sorted(d.items()) # sort dictionary by key\n",
    "# sorted(d[key]) # sort each val in the dictionary "
   ]
  },
  {
   "cell_type": "code",
   "execution_count": 10,
   "metadata": {},
   "outputs": [],
   "source": [
    "# create dictionary\n",
    "d = {i:j for i in range(4) for j in range(5)} # {0: 4, 1: 4, 2: 4, 3: 4}\n",
    "d = dict([[1, i] for i in range(5)]) # {1: 4} key没变\n",
    "d = dict([[i, 1] for i in range(5)]) # {0: 1, 1: 1, 2: 1, 3: 1, 4: 1}"
   ]
  },
  {
   "cell_type": "code",
   "execution_count": 5,
   "metadata": {},
   "outputs": [
    {
     "name": "stdout",
     "output_type": "stream",
     "text": [
      "0 4\n",
      "1 3\n",
      "2 2\n",
      "3 1\n",
      "4 0\n"
     ]
    }
   ],
   "source": [
    "lst = [i for i in range(5)]\n",
    "\n",
    "for idx, val in enumerate(lst[::-1]): # [4,3,2,1,0] enumerate的index一定是正向的\n",
    "    print(idx, val)"
   ]
  },
  {
   "cell_type": "code",
   "execution_count": null,
   "metadata": {},
   "outputs": [],
   "source": [
    "a = 1\n",
    "b = [2, 3]\n",
    "\n",
    "def func():\n",
    "    global a\n",
    "    a = 2\n",
    "    print(\"in func a:\", a)\n",
    "    b[0] = 1\n",
    "    print(\"in func b:\", b)"
   ]
  },
  {
   "cell_type": "code",
   "execution_count": null,
   "metadata": {},
   "outputs": [],
   "source": [
    "import numpy as np\n",
    "\n",
    "board = [[1,3,5,5,2],[3,4,3,3,1],[3,2,4,5,2],[2,4,4,5,5],[1,4,4,1,1]]  \n",
    "a = zip(*reversed(board))  \n",
    "transpose = list(map(list, zip(*board))) \n",
    "transpose_back = list(map(list, zip(*board)))  \n",
    "transpose = list(map(list,zip(*reversed(board))))  \n",
    "\n",
    "# rotate clockwise 90 degree back = list(reversed(list(zip(*board)))) # rotate counter-clockwise 90 degree   "
   ]
  }
 ],
 "metadata": {
  "kernelspec": {
   "display_name": "py39",
   "language": "python",
   "name": "python3"
  },
  "language_info": {
   "codemirror_mode": {
    "name": "ipython",
    "version": 3
   },
   "file_extension": ".py",
   "mimetype": "text/x-python",
   "name": "python",
   "nbconvert_exporter": "python",
   "pygments_lexer": "ipython3",
   "version": "3.9.15"
  },
  "orig_nbformat": 4
 },
 "nbformat": 4,
 "nbformat_minor": 2
}
