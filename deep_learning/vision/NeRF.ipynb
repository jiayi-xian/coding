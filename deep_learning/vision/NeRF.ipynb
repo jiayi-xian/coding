{
 "cells": [
  {
   "cell_type": "markdown",
   "metadata": {},
   "source": [
    "首先我们有三个坐标系，分别为世界坐标系，相机坐标系，成像坐标系。分别为3d 3d 2d\n",
    "\n",
    "P: 相机坐标系到成像坐标系的投影\n",
    "$$\n",
    "$\\mathbf{P}=\\left[\\begin{array}{ccc}f & 0 & p_x \\\\ 0 & f & p_y \\\\ 0 & 0 & 1\\end{array}\\right]\\left[\\begin{array}{lll:l}1 & 0 & 0 & 0 \\\\ 0 & 1 & 0 & 0 \\\\ 0 & 0 & 1 & 0\\end{array}\\right]$\n",
    "$$\n",
    "又可以写成\n",
    "$$\\mathbf{P}=\\mathbf{K}[\\mathbf{I} \\mid \\mathbf{0}]$$\n",
    "其中，$K$ 是 camera intrinsic coordinate 又叫 calibration matrix\n",
    "$$\n",
    "\\mathbf{K}=\\left[\\begin{array}{ccc}f & 0 & p_x \\\\ 0 & f & p_y \\\\ 0 & 0 & 1\\end{array}\\right]\n",
    "$$\n",
    "\n",
    "世界坐标系到相机坐标系的投影\n",
    "如果相机坐标系和世界坐标系是一样的 那么投影矩阵是Indentity矩阵\n",
    "$R ⋅ (X_w - X_c)$\n",
    "$R$是rotation矩阵\n",
    "如果写成homogenous coordinates 那么则是：\n",
    "$$\n",
    "\\left[\\begin{array}{c}X_c \\\\ Y_c \\\\ Z_c \\\\ 1\\end{array}\\right]=\\left[\\begin{array}{cc}\\mathbf{R} & -\\mathbf{R C} \\\\ \\mathbf{0} & 1\\end{array}\\right]\\left[\\begin{array}{c}X_w \\\\ Y_w \\\\ Z_w \\\\ 1\\end{array}\\right]\n",
    "$$\n"
   ]
  },
  {
   "cell_type": "code",
   "execution_count": 13,
   "metadata": {},
   "outputs": [],
   "source": [
    "#\n",
    "import torch\n",
    "\n",
    "W, H = 6, 4\n",
    "i, j = torch.meshgrid(torch.linspace(0, W-1, W), torch.linspace(0, H-1, H))\n"
   ]
  },
  {
   "cell_type": "code",
   "execution_count": 17,
   "metadata": {},
   "outputs": [
    {
     "data": {
      "text/plain": [
       "tensor([[0., 0., 0., 0.],\n",
       "        [1., 1., 1., 1.],\n",
       "        [2., 2., 2., 2.],\n",
       "        [3., 3., 3., 3.],\n",
       "        [4., 4., 4., 4.],\n",
       "        [5., 5., 5., 5.]])"
      ]
     },
     "execution_count": 17,
     "metadata": {},
     "output_type": "execute_result"
    }
   ],
   "source": [
    "i"
   ]
  },
  {
   "cell_type": "code",
   "execution_count": 12,
   "metadata": {},
   "outputs": [
    {
     "data": {
      "text/plain": [
       "tensor([[0., 0., 0., 0., 0., 0.],\n",
       "        [1., 1., 1., 1., 1., 1.],\n",
       "        [2., 2., 2., 2., 2., 2.],\n",
       "        [3., 3., 3., 3., 3., 3.]])"
      ]
     },
     "execution_count": 12,
     "metadata": {},
     "output_type": "execute_result"
    }
   ],
   "source": [
    "i.t()\n",
    "j.t()"
   ]
  },
  {
   "cell_type": "code",
   "execution_count": null,
   "metadata": {},
   "outputs": [],
   "source": [
    "import torch\n",
    "import numpy as np\n",
    "\n",
    "def get_rays(H, W, K, c2w):\n",
    "    # Create a meshgrid of pixel coordinates\n",
    "    i, j = torch.meshgrid(torch.linspace(0, W-1, W), torch.linspace(0, H-1, H))\n",
    "    i = i.t()\n",
    "    j = j.t()\n",
    "\n",
    "    # Compute the ray directions in camera coordinates\n",
    "    dirs = torch.stack([(i - K[0, 2]) / K[0, 0], -(j - K[1, 2]) / K[1, 1], -torch.ones_like(i)], -1)\n",
    "\n",
    "    # Rotate ray directions from camera frame to the world frame\n",
    "    # This line performs a batched matrix-vector multiplication\n",
    "    rays_d = torch.sum(dirs[..., np.newaxis, :3, :3] * c2w[:3, :3], -1)\n",
    "\n",
    "    # Translate camera frame's origin to the world frame\n",
    "    # This is the origin of all rays\n",
    "    rays_o = c2w[:3, -1].expand(rays_d.shape)\n",
    "\n",
    "    return rays_o, rays_d\n",
    "\n",
    "# Example usage:\n",
    "# Define hypothetical values for H, W, K, and c2w\n",
    "H, W = 480, 640  # Image height and width\n",
    "K = torch.tensor([[1000, 0, 320, 0], [0, 1000, 240, 0], [0, 0, 1, 0]], dtype=torch.float32)  # Intrinsic camera matrix\n",
    "c2w = torch.tensor([[1, 0, 0, 0], [0, 1, 0, 0], [0, 0, 1, 0], [10, 20, 30, 1]], dtype=torch.float32)  # Camera-to-world transformation matrix\n",
    "\n",
    "# Get the rays\n",
    "rays_o, rays_d = get_rays(H, W, K, c2w)\n",
    "\n",
    "# Print the results\n",
    "print(\"Rays origin (rays_o):\")\n",
    "print(rays_o)\n",
    "print(\"\\nRays direction (rays_d):\")\n",
    "print(rays_d)"
   ]
  },
  {
   "cell_type": "code",
   "execution_count": null,
   "metadata": {},
   "outputs": [],
   "source": []
  }
 ],
 "metadata": {
  "kernelspec": {
   "display_name": "hf",
   "language": "python",
   "name": "python3"
  },
  "language_info": {
   "codemirror_mode": {
    "name": "ipython",
    "version": 3
   },
   "file_extension": ".py",
   "mimetype": "text/x-python",
   "name": "python",
   "nbconvert_exporter": "python",
   "pygments_lexer": "ipython3",
   "version": "3.9.19"
  }
 },
 "nbformat": 4,
 "nbformat_minor": 2
}
