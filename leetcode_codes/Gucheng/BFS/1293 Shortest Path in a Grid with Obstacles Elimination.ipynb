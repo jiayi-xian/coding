{
 "cells": [
  {
   "cell_type": "code",
   "execution_count": null,
   "metadata": {},
   "outputs": [],
   "source": [
    "\n",
    "class Solution:\n",
    "    def shortestPath(self, grid: List[List[int]], k: int) -> int:\n",
    "\n",
    "        if len(grid) == 0: return 0\n",
    "        m, n = len(grid), len(grid[0])\n",
    "        G = grid\n",
    "        if k >= m+n-3: return m+n-2 #注意最后和第一个grid一定没有墙\n",
    "        # initialization BFS\n",
    "        visited = set((0, 0, k))\n",
    "        q = [(0, 0, k)]\n",
    "        q = deque(q)\n",
    "        steps = 0\n",
    "        neis = lambda x,y: [(nr, nc) for nr, nc in [[x+1,y], [x-1,y], [x,y+1],\\\n",
    "         [x,y-1]] if 0 <= nr < m and 0 <= nc < n ]\n",
    "\n",
    "\n",
    "        while q:\n",
    "            for _ in range(len(q)):\n",
    "                cx, cy, ck = q.popleft()\n",
    "                # 起点即终点 要判断\n",
    "                if cx == m-1 and cy == n-1: return steps\n",
    "                # there are two kinds of grid we can step on, destroyed wall or blank grip\n",
    "                for nx, ny in neis(cx, cy):\n",
    "                    if nx == m-1 and ny == n-1: return steps+1 #return steps\n",
    "                    if G[nx][ny] == 1 and ck >0 and (nx, ny, ck-1) not in visited:\n",
    "                        visited.add((nx, ny, ck-1))\n",
    "                        q.append((nx, ny, ck-1))\n",
    "                    elif G[nx][ny] == 0 and (nx, ny, ck) not in visited:\n",
    "                        visited.add((nx, ny, ck))\n",
    "                        q.append((nx, ny, ck))\n",
    "\n",
    "            steps += 1 # pay attention to indent\n",
    "        \n",
    "        return -1"
   ]
  }
 ],
 "metadata": {
  "language_info": {
   "name": "python"
  }
 },
 "nbformat": 4,
 "nbformat_minor": 2
}
