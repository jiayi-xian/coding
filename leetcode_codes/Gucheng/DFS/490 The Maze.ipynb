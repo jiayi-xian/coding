{
 "cells": [
  {
   "cell_type": "code",
   "execution_count": null,
   "metadata": {},
   "outputs": [],
   "source": [
    "# https://leetcode.com/problems/the-maze/solutions/150523/python-elegant-dfs-solution/\n",
    "class Solution:\n",
    "    def hasPath(self, maze, start, destination):\n",
    "        m, n, stopped = len(maze), len(maze[0]), set()\n",
    "        def dfs(x, y):\n",
    "            if (x, y) in stopped: # 1. DFS vis 控制什么时候停止搜索。这个很重要 因为dfs理论上来说是可以重复step on任何一个grid的\n",
    "                return False\n",
    "            stopped.add((x, y))\n",
    "            if [x, y] == destination: # 2.常规的ending state condition\n",
    "                return True\n",
    "            for i, j in [(-1, 0) , (1, 0), (0, -1), (0, 1)]:\n",
    "                newX, newY = x, y # easy fail：注意是new x new y 每一个direction都要从original的xy开始 所以不能直接覆盖修改 xy\n",
    "                while 0 <= newX + i < m and 0 <= newY + j < n and maze[newX + i][newY + j] != 1: # 注意墙体的限制\n",
    "                    newX += i\n",
    "                    newY += j\n",
    "                if dfs(newX, newY):\n",
    "                    return True\n",
    "            return False\n",
    "        return dfs(*start)"
   ]
  },
  {
   "cell_type": "code",
   "execution_count": null,
   "metadata": {},
   "outputs": [],
   "source": []
  }
 ],
 "metadata": {
  "language_info": {
   "name": "python"
  }
 },
 "nbformat": 4,
 "nbformat_minor": 2
}
