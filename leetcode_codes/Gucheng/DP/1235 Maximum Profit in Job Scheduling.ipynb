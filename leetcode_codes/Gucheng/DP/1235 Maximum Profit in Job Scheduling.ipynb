{
 "cells": [
  {
   "cell_type": "code",
   "execution_count": null,
   "metadata": {},
   "outputs": [],
   "source": [
    "from typing import *\n",
    "import bisect\n",
    "class Solution:\n",
    "    def jobScheduling(self, startTime: List[int], endTime: List[int], profit: List[int]) -> int:\n",
    "        jobs = sorted(zip(startTime, endTime, profit), key=lambda v: v[1])\n",
    "        dp = [[0, 0]] # [[ending_time, current_total_profit_after_finished_current_job], [], ...]\n",
    "        for s, e, p in jobs:\n",
    "            i = bisect.bisect(dp, [s + 1]) - 1 # find index in nested list with ending time < s+1, \\\n",
    "            # i is the index 1 less than it.\n",
    "            # since the s, e, p triple is sorted by ending time, the ending time dp[-1][0] is the current \\\n",
    "            # schedule ending time\n",
    "            if dp[i][1] + p > dp[-1][1]: # if \n",
    "                dp.append([e, dp[i][1] + p])\n",
    "        return dp[-1][1]"
   ]
  },
  {
   "cell_type": "markdown",
   "metadata": {},
   "source": [
    "Finding the Latest Non-Overlapping Job:\n",
    "\n",
    "`i = bisect.bisect(dp, [s + 1]) - 1`: Uses binary search to find the index `i` in `dp` where the job with ending time just before `s + 1` is located. This job is the latest job that does not overlap with the current job being considered.\n",
    "Updating DP Table:\n",
    "\n",
    "The condition if `dp[i][1] + p > dp[-1][1]`: checks if adding the current job's profit to the total profit up to the last non-overlapping job (`dp[i][1] + p`) results in a higher profit than the current maximum total profit (`dp[-1][1]`).\n",
    "If the condition is true, a new entry `[e, dp[i][1] + p]` is appended to dp, indicating that taking the current job updates the maximum profit achievable by ending at time e with a profit of `dp[i][1] + p`.\n",
    "Returning the Maximum Profit:\n",
    "\n",
    "`return dp[-1][1]`: Returns the second element of the last entry in dp, which represents the maximum profit achievable by scheduling the jobs.\n",
    "\n",
    "补充： 为什么可以bisect 因为jobs按照end time sorted 所以每次从里面取出的job的end time都一定比当前dp里面的end time 大\n",
    "\n",
    "dp[e] = max(dp[i][1]+p_e. dp[-1][1] if i != len(dp)-1)\n",
    "什么是next node？\n",
    "在这道题中 如果想用recursion是有难度的 因为next node 可以很多 只要不和当前schedule overlap就好\n",
    "但用dp有个好处 就是在返回的结果中 再考虑选哪个做next node能得到better result （这样的next node才是有考虑价值的 这也是一种剪枝）\n",
    "也可以sorted by start time dp从右往左 start time在后面的先计算accumulated profit\n",
    "这样相当于recursion 但不是显式的recursion。因为next nodes并非提前得知的。（在考虑从左往右考虑s, e, p时，谁是next start time是不知道的 似乎可以考虑全部不over lap的start time 但是那样肯定超时）\n",
    "但对于dp来说 如果从后往前返回了后面的schedule 就可以使用bisect去找到当前start time的插入位置\n",
    "\n"
   ]
  },
  {
   "cell_type": "code",
   "execution_count": null,
   "metadata": {},
   "outputs": [],
   "source": [
    "# jobs sorted by starting time\n",
    "def recursion(idx, jobs):\n",
    "    if idx == len(jobs)-1:\n",
    "        return jobs[idx][2], jobs[idx][1] # return accumulated profit of the last job and the end time\n",
    "    \n",
    "    nex_p, nex_end = recursion(idx+1, jobs)\n",
    "    j = bisect.bisect()"
   ]
  },
  {
   "cell_type": "markdown",
   "metadata": {},
   "source": []
  }
 ],
 "metadata": {
  "language_info": {
   "name": "python"
  }
 },
 "nbformat": 4,
 "nbformat_minor": 2
}
