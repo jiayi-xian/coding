{
 "cells": [
  {
   "cell_type": "code",
   "execution_count": null,
   "metadata": {},
   "outputs": [],
   "source": [
    "from collections import *\n",
    "from typing import *"
   ]
  },
  {
   "cell_type": "code",
   "execution_count": null,
   "metadata": {},
   "outputs": [],
   "source": [
    "# 139. Word Break\n",
    "class Solution:\n",
    "    def wordBreak(self, s: str, wordDict: List[str]) -> bool:\n",
    "\n",
    "        # dp[j] : if s[:j] not include s[j] can be segmentated by words in wordDict\n",
    "        wordSet = set(wordDict)\n",
    "        nrow = len(s)\n",
    "        dp = [0 for _ in range(nrow+1)]\n",
    "\n",
    "        dp[0] = 1\n",
    "        # dp[i] = dp[i-j] and (s[i:j] in wordSet)\n",
    "        for i in range(nrow+1):\n",
    "            #for j in range(i): # Both directions are correct\n",
    "            for j in range(i-1, -1, -1): # j<i\n",
    "                dp[i] |= dp[j] and (s[j:i] in wordSet) # 最好写例子\n",
    "        \n",
    "        return dp[-1]\n",
    "\n",
    "        # dp[i] |= dp[i-len(w)] and (dp[i-len(w):i] in wordset) # for w in wordSet"
   ]
  },
  {
   "cell_type": "code",
   "execution_count": null,
   "metadata": {},
   "outputs": [],
   "source": [
    "# 140. Word Break II\n",
    "class Solution:\n",
    "    def wordBreak(self, s: str, wordDict: List[str]) -> List[str]:\n",
    "        wordSet = set(wordDict)\n",
    "        if set(Counter(s).keys()) > set(Counter(\"\".join(wordDict)).keys()):\n",
    "            return []\n",
    "        \n",
    "        #dp[i]: s[:i] can be broken down into ....[[word set1], [word set2],... ]\n",
    "        \n",
    "        n = len(s)\n",
    "        dp = [[] for _ in range(n+1)]\n",
    "        dp[0] = [[]]\n",
    "        \n",
    "        for i in range(1,n+1):\n",
    "            for j in range(i-1, -1, -1):\n",
    "                if s[j:i] in wordSet:\n",
    "                    addon = []\n",
    "                    for expr in dp[j]:\n",
    "                        dp[i].append(expr+[s[j:i]])\n",
    "                    #dp[i].extend(addon)\n",
    "        \n",
    "        res = [\" \".join(x) for x in dp[n]]\n",
    "        return res"
   ]
  }
 ],
 "metadata": {
  "language_info": {
   "name": "python"
  }
 },
 "nbformat": 4,
 "nbformat_minor": 2
}
