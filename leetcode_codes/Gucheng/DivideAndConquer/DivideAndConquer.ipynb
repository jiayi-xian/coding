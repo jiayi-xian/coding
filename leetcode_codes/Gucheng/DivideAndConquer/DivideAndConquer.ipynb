{
 "cells": [
  {
   "cell_type": "markdown",
   "metadata": {},
   "source": [
    "#### 169 Majority Element\n",
    "找majority element，所谓majority element是指出现次数超过$⌊ \\frac{n}{2} \\rfloor$.\n",
    "https://leetcode.com/problems/majority-element/\n",
    "简单的O(nlgn)解法, 熟悉分治的思想\n",
    "最优解为投票法 $O(n)$ 无空间O(1), hashmap需要占用空间\n",
    "一般O(1)空间问题可以用precompute table来计算, 如果数数据流1010100101010中有几个0, 1.可以O(1)空间来做"
   ]
  },
  {
   "cell_type": "markdown",
   "metadata": {},
   "source": [
    "- 169. Majority Element \n",
    "- 50. Pow(x, n) calculate the power of a number \n",
    "- 215. Kth Largest Element in an Array \n",
    "- count of inversion pairs \n",
    "- closed pair distance among points\n",
    "- 23. Merge k Sorted Lists"
   ]
  },
  {
   "cell_type": "code",
   "execution_count": 2,
   "metadata": {},
   "outputs": [],
   "source": [
    "#### 169 Majority Element 这个只能求超过一半的众数 不能求最多的数\n",
    "def majority_element(nums):\n",
    "    def divide(nums, left, right):\n",
    "        if left == right:\n",
    "            return nums[left]\n",
    "        \n",
    "        mid = (left + right) // 2\n",
    "        left_res = divide(nums, left, mid)\n",
    "        right_res = divide(nums, mid + 1, right)\n",
    "        \n",
    "        if left_res == right_res:\n",
    "            return left_res\n",
    "        \n",
    "        left_count = conquer(nums, left_res, left, right) # count left_res 在merged情况下的 数目\n",
    "        right_count = conquer(nums, right_res, left, right) # count right_res 在merged情况下的 数目\n",
    "        \n",
    "        return left_res if left_count > right_count else right_res # 这里选右边很重要 和mid的公式相对应 要注意默认情况下肯定是左边分的item要比右边的多\n",
    "\n",
    "    def conquer(nums, target, left, right):\n",
    "        count = 0\n",
    "        for i in range(left, right + 1):\n",
    "            if nums[i] == target:\n",
    "                count += 1\n",
    "        return count\n",
    "\n",
    "    return divide(nums, 0, len(nums) - 1)\n",
    "\n",
    "nums = [2,2,2,3,3,3,3,4,4,4]\n",
    "res = majority_element(nums)\n",
    "print(res)\n"
   ]
  },
  {
   "cell_type": "code",
   "execution_count": null,
   "metadata": {},
   "outputs": [],
   "source": [
    "# 229. Majority Element II (Boyer-Moore Majority Voting Solution)\n",
    "\"\"\"\n",
    "Problem Description\n",
    "The problem is to identify elements in an integer array, nums, of size n, that appear more than ⌊n/3⌋ times and return them as an output.\n",
    "\n",
    "Constraints:\n",
    "1 <= nums.length <= 5 * 10e4\n",
    "-10e9 <= nums[i] <= 10e9\n",
    "\n",
    "\n",
    "\"\"\""
   ]
  },
  {
   "cell_type": "code",
   "execution_count": null,
   "metadata": {},
   "outputs": [],
   "source": [
    "#### 50 Pow(x, n) calculate the power of a number "
   ]
  },
  {
   "cell_type": "code",
   "execution_count": null,
   "metadata": {},
   "outputs": [],
   "source": [
    "#### 215. Kth Largest Element in an Array (quick select verified)\n",
    "\n",
    "def partition(arr, l, h):\n",
    "\n",
    "    pivot = arr[h]\n",
    "    i = l\n",
    "    for j in range(l, h):\n",
    "        if arr[j] <= pivot:\n",
    "            arr[j], arr[i] = arr[i], arr[j]\n",
    "            i += 1\n",
    "    arr[i], arr[h] = pivot, arr[i]\n",
    "    return arr, i\n",
    "\n",
    "def quick_select(arr, s, t, k):\n",
    "\n",
    "    if s > t:\n",
    "        return arr, None\n",
    "    arr, idx = partition(arr, s, t)\n",
    "    if idx == k:\n",
    "        return arr, arr[k]\n",
    "\n",
    "    elif idx > k:\n",
    "        return quick_select(arr, s, idx-1, k)\n",
    "\n",
    "    elif idx < k:\n",
    "        return quick_select(arr, idx+1, t, k) # 注意这里是k 不是 idx-k 要找的是绝对index为k的数\n"
   ]
  },
  {
   "cell_type": "code",
   "execution_count": null,
   "metadata": {},
   "outputs": [],
   "source": [
    "#### 23 Merge k sorted lists\n",
    "class ListNode:\n",
    "    def __init__(self, val=0, next=None):\n",
    "        self.val = val\n",
    "        self.next = next\n",
    "\n",
    "class Solution:\n",
    "    def merge_k_lists(self, lists):\n",
    "        if not lists:\n",
    "            return None\n",
    "        return self.partition(lists, 0, len(lists) - 1)\n",
    "\n",
    "    def partition(self, lists, start, end):\n",
    "        if start == end:\n",
    "            return lists[start]\n",
    "        mid = (start + end) // 2\n",
    "        l1 = self.partition(lists, start, mid)\n",
    "        l2 = self.partition(lists, mid + 1, end)\n",
    "        return self.merge(l1, l2)\n",
    "\n",
    "    def merge(self, l1, l2):\n",
    "        if not l1:\n",
    "            return l2\n",
    "        if not l2:\n",
    "            return l1\n",
    "        if l1.val < l2.val:\n",
    "            l1.next = self.merge(l1.next, l2)\n",
    "            return l1\n",
    "        else:\n",
    "            l2.next = self.merge(l1, l2.next)\n",
    "            return l2\n"
   ]
  },
  {
   "cell_type": "markdown",
   "metadata": {},
   "source": [
    "#### pairs of closest points\n",
    "\n",
    "We are given an array of $n$ points in the plane, and the problem is to find out the closest pair of points in the array. This problem arises in a number of applications. For example, in air-traffic control, you may want to monitor planes that come too close together, since this may indicate a possible collision. Recall the following formula for distance between two points $\\mathrm{p}$ and $\\mathrm{q}$.\n",
    "$$\n",
    "\\|p q\\|=\\sqrt{\\left(p_x-q_x\\right)^2+\\left(p_y-q_y\\right)^2}\n",
    "$$\n",
    "\n",
    "The Brute force solution is $\\mathrm{O}\\left(\\mathrm{n}^{\\wedge} 2\\right)$, compute the distance between each pair and return the smallest. We can calculate the smallest distance in $\\mathrm{O}(\\mathrm{nLogn})$ time using Divide and Conquer strategy. In this post, a $\\mathrm{O}\\left(\\mathrm{n} \\times(\\operatorname{Logn})^{\\wedge} 2\\right)$ approach is discussed. We will be discussing a O(nLogn) approach in a separate post."
   ]
  },
  {
   "cell_type": "markdown",
   "metadata": {},
   "source": [
    "#### Closest Pair of Points using Divide and Conquer algorithm\n",
    "$O(n(logn)^2)$\n",
    "\n",
    "$\\begin{aligned} & T(n)=2 T(n / 2)+O(n)+O(n \\log n)+O(n) \\\\ & T(n)=2 T(n / 2)+O(n \\log n)\\end{aligned}$"
   ]
  },
  {
   "cell_type": "code",
   "execution_count": 1,
   "metadata": {},
   "outputs": [],
   "source": [
    "import math\n",
    "\n",
    "def divide(points, left, right): # left,right are pointers\n",
    "    if left == right:\n",
    "        return float('inf')\n",
    "    if left + 1 == right: # only has two points\n",
    "        return distance(points[left], points[right])\n",
    "    \n",
    "    mid = (left + right) // 2\n",
    "    left_min_dis = divide(points, left, mid)\n",
    "    right_min_dis = divide(points, mid + 1, right)\n",
    "    cur_min_dis = min(left_min_dis, right_min_dis)\n",
    "\n",
    "    valid_point_index = []\n",
    "    for i in range(left, right + 1):\n",
    "        if abs(points[mid].x - points[i].x) <= cur_min_dis:\n",
    "            valid_point_index.append(i)\n",
    "\n",
    "    valid_point_index.sort(key=lambda i: points[i].y)\n",
    "    \n",
    "    for i in range(len(valid_point_index) - 1):\n",
    "        for j in range(i + 1, len(valid_point_index)):\n",
    "            if (points[valid_point_index[j]].y - points[valid_point_index[i]].y) > cur_min_dis:\n",
    "                break\n",
    "            temp_dis = distance(points[valid_point_index[i]], points[valid_point_index[j]])\n",
    "            cur_min_dis = min(temp_dis, cur_min_dis)\n",
    "\n",
    "    return cur_min_dis\n",
    "\n",
    "def distance(p1, p2):\n",
    "    return math.sqrt((p1.x - p2.x) ** 2 + (p1.y - p2.y) ** 2)\n",
    "\n",
    "# Define a simple Point class to use with the algorithm\n",
    "class Point:\n",
    "    def __init__(self, x, y):\n",
    "        self.x = x\n",
    "        self.y = y\n"
   ]
  },
  {
   "cell_type": "markdown",
   "metadata": {},
   "source": [
    "#### Count Inversions in an array\n",
    "Given一个数组a，`a[i]`,`a[j]`为inversion pairs if `i<j` 但`a[i] > a[j]`. 求a里面所有的inversion pairs的数量。\n",
    "Inversion Count for an array indicates - how far (or close) the array is from being sorted. If array is already sorted then inversion count is 0 . If array is sorted in reverse order that inversion count is the maximum.\n",
    "Formally speaking, two elements `a[i]` and `a[j]` form an inversion if `a[i]>a[j]` and `i<j`"
   ]
  }
 ],
 "metadata": {
  "kernelspec": {
   "display_name": "py39",
   "language": "python",
   "name": "python3"
  },
  "language_info": {
   "codemirror_mode": {
    "name": "ipython",
    "version": 3
   },
   "file_extension": ".py",
   "mimetype": "text/x-python",
   "name": "python",
   "nbconvert_exporter": "python",
   "pygments_lexer": "ipython3",
   "version": "3.9.12"
  }
 },
 "nbformat": 4,
 "nbformat_minor": 2
}
