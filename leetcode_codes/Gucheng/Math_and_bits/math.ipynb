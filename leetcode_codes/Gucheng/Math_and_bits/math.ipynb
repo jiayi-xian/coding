{
 "cells": [
  {
   "cell_type": "code",
   "execution_count": 4,
   "metadata": {},
   "outputs": [],
   "source": [
    "import random\n",
    "from typing import *"
   ]
  },
  {
   "cell_type": "markdown",
   "metadata": {},
   "source": [
    "快速幂乘法模版\n",
    "```\n",
    "def mul(self, a, k): # 18*a = 9*(a+a) = 。。。这个template很重要\n",
    "    ans = 0\n",
    "    while k > 0:\n",
    "        if (k & 1) == 1:\n",
    "            ans += a\n",
    "        k >>= 1\n",
    "        a += a\n",
    "    return ans\n",
    "```"
   ]
  },
  {
   "cell_type": "markdown",
   "metadata": {},
   "source": [
    "+ 398 Random Pick Index 蓄水池抽样\n",
    "+ 29 Divide Two Integers\n",
    "+ 50 pow(x, n)"
   ]
  },
  {
   "cell_type": "code",
   "execution_count": null,
   "metadata": {},
   "outputs": [],
   "source": [
    "# 50 pow(x, n)\n",
    "class Solution:\n",
    "    def myPow(self, x: float, n: int) -> float:\n",
    "        if x == 0.0: return 0.0\n",
    "        res = 1\n",
    "        if n < 0: x, n = 1 / x, -n\n",
    "        while n:\n",
    "            if n & 1: res *= x\n",
    "            x *= x\n",
    "            n >>= 1\n",
    "        return res"
   ]
  },
  {
   "cell_type": "code",
   "execution_count": 3,
   "metadata": {},
   "outputs": [
    {
     "data": {
      "text/plain": [
       "1.4144765625"
      ]
     },
     "execution_count": 3,
     "metadata": {},
     "output_type": "execute_result"
    }
   ],
   "source": [
    "# 数学猜答案 find squre root\n",
    "\n",
    "def root(x):\n",
    "\n",
    "    l, r = 0, x\n",
    "    delta = 0.001\n",
    "\n",
    "    while l<r:\n",
    "        mid = l + (r-l)/2\n",
    "        if x-delta <= mid**2 <= x+delta:\n",
    "            return mid\n",
    "        elif x  > mid**2:\n",
    "            l = mid + delta\n",
    "        else:\n",
    "            r = mid - delta\n",
    "    \n",
    "    return l\n",
    "\n",
    "root(2)\n"
   ]
  },
  {
   "cell_type": "code",
   "execution_count": null,
   "metadata": {},
   "outputs": [],
   "source": [
    "# 398. Random Pick Index\n",
    "\n",
    "class Solution:\n",
    "    \"\"\"\n",
    "    设蓄水池size为k\n",
    "    数据流第j个数据\n",
    "    j>k\n",
    "    蓄水池抽样的strategy是：\n",
    "    现随机抽取1<=x<=j\n",
    "    case 1. 如果x>k, drop 第j个数字\n",
    "    case 2. 如果x<=k, 替换第x个数字为第j个数字\n",
    "    那么，\n",
    "    1. 第j轮蓄水池中的数留下的概率为 \n",
    "    (j-k)/j + k/j*(k-1)/k = (j-k + k-1)/j = (j-1)/j\n",
    "    1.1其中(j-k)/j代表case 1 这时候蓄水池中的数不会被替换\n",
    "    1.2其中k/j*(k-1)/k代表case 2 这时候蓄水池中的有一定几率被替换成j。\n",
    "    为了抽不中，前提是在已经抽中x为大于k的数，概率为(j-k)/j，而在替换轮不能被抽中，概率为(k-1)/k，统共为(j-1)/j\n",
    "    2. 对于新来的j只需要x<=k就可以留下\n",
    "    综上所述，对于任意一个数j，\n",
    "    j本轮留下的概率为 k/j, 下一轮是j/(j+1), (j+1)/(j+2), ...\n",
    "    而最终j留下的概率为 k/n\n",
    "\n",
    "    这题蓄水池是什么？\n",
    "    蓄水池size为1 用于存在nums中等于target的数的index\n",
    "    把nums中==target的数看成stream，由于stream很大 我们不知道总体的j有多大\n",
    "    当j到来时，我们考虑要不要pick j这个index还是选择之前碰见的index\n",
    "\n",
    "    x = random.randint(1, j)\n",
    "    if x == 1: # x<=k 以 1/k的概率替换蓄水池中任意一个index\n",
    "        pick = idx\n",
    "    else:\n",
    "        continue # x>k 不考虑替换蓄水池中的index pick维持原样\n",
    "    \"\"\"\n",
    "    def __init__(self, nums: List[int]):\n",
    "\n",
    "        self.nums = nums\n",
    "    def pick(self, target: int) -> int:\n",
    "        ans = cnt = 0\n",
    "        for i, num in enumerate(self.nums):\n",
    "            if num == target:\n",
    "                cnt += 1  # 第 cnt 次遇到 target\n",
    "                if random.randrange(cnt) == 0:\n",
    "                    ans = i\n",
    "        return ans\n",
    "    def pick_detail_version(self, target: int) -> int:\n",
    "        # select x in [1,j]\n",
    "        # x = random.randint(1, j)\n",
    "        # if x > 1, keep the current nums\n",
    "        # if x <= 1, replace one num in nums\n",
    "        # if x == 1:\n",
    "        j = 0 # 相当于j\n",
    "        pick = 0\n",
    "        for idx, n in enumerate(self.nums):\n",
    "            # k = 1\n",
    "            if n == target:\n",
    "                j += 1\n",
    "                if random.randint(1, j) == 1:\n",
    "                    pick = idx\n",
    "                \"\"\"if j == 1:\n",
    "                    pick = idx\n",
    "                else:\n",
    "                    x = random.randint(1, j)\n",
    "                    if x > 1:\n",
    "                        continue\n",
    "                    else:\n",
    "                        pick = idx\"\"\"\n",
    "\n",
    "        return pick\n",
    "\n",
    "\n",
    "\n",
    "\n",
    "        self.j += 1\n",
    "\n",
    "\n",
    "\n",
    "\n",
    "# Your Solution object will be instantiated and called as such:\n",
    "# obj = Solution(nums)\n",
    "# param_1 = obj.pick(target)\n",
    "\n",
    "\n"
   ]
  },
  {
   "cell_type": "code",
   "execution_count": null,
   "metadata": {},
   "outputs": [],
   "source": [
    "# 29. Divide Two Integers\n",
    "\n",
    "class Solution:\n",
    "    def divide(self, a, b):\n",
    "        x, y = a, b\n",
    "        isNeg = False\n",
    "        if (x > 0 and y < 0) or (x < 0 and y > 0):\n",
    "            isNeg = True\n",
    "        x, y = abs(x), abs(y)\n",
    "        l, r = 0, x\n",
    "        while l < r:\n",
    "            mid = (l + r + 1) >> 1\n",
    "            if self.mul(mid, y) <= x:\n",
    "                l = mid\n",
    "            else:\n",
    "                r = mid - 1\n",
    "        ans = -l if isNeg else l\n",
    "        if ans > 2**31 - 1 or ans < -2**31:  # Integer.MAX_VALUE and Integer.MIN_VALUE in Python\n",
    "            return 2**31 - 1\n",
    "        return int(ans)\n",
    "    \n",
    "    def mul(self, a, k): # 18*a = 9*(a+a) = 。。。这个template很重要\n",
    "        ans = 0\n",
    "        while k > 0:\n",
    "            if (k & 1) == 1:\n",
    "                ans += a\n",
    "            k >>= 1\n",
    "            a += a\n",
    "        return ans\n",
    "        "
   ]
  }
 ],
 "metadata": {
  "kernelspec": {
   "display_name": "py39",
   "language": "python",
   "name": "python3"
  },
  "language_info": {
   "codemirror_mode": {
    "name": "ipython",
    "version": 3
   },
   "file_extension": ".py",
   "mimetype": "text/x-python",
   "name": "python",
   "nbconvert_exporter": "python",
   "pygments_lexer": "ipython3",
   "version": "3.9.12"
  }
 },
 "nbformat": 4,
 "nbformat_minor": 2
}
