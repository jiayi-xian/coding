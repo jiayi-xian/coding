{
 "cells": [
  {
   "cell_type": "markdown",
   "metadata": {},
   "source": [
    "bubble sort, insertion sort, selection sort, shell sort, quick sort, merge sort, heap sort counting sort, bucket sort, radix sort *pancake sort\n",
    "\n",
    "常考的:\n",
    "merge sort,\n",
    "quick sort (quick select)\n",
    "bucket sort\n",
    "counting sort\n",
    "heap sort\n",
    "少考的:\n",
    "pancake sort\n",
    "不考的:\n",
    "bubble sort,\n",
    "selection sort,\n",
    "insertion sort,\n",
    "shell sort\n",
    "radix sort\n",
    "\n",
    "\n",
    "1. 冒泡排序\n",
    "   j (picked index) iterate from 0 to n (index)\n",
    "   for i in range(j, n)\n",
    "   if a[i] > a[i+1]: swap -> i ++ 1\n",
    "   if a[i] <= a[i+1]: break -> j+=1\n",
    "   比较相邻的两个数，如果前小于后 停止 选择下一个元素继续 如果前大于后 swap 继续比较下一个元素\n",
    "2. 选择排序\n",
    "每次从待排序数组中选出最小或最大的一个元素。放到已排序的序列的末尾重复直到排序完成\n",
    "3. 选择元素 插入有序数组 　iterate array 找到不符合升序的元素，将它取出插入至合适的地方\n",
    "4. \n",
    "1.   Kth Largest Element in an Array\n",
    "2.   Sort List \\& count of inversion pairs\n",
    "3.  Sort Colors\n",
    "4.   Sort Characters By Frequency\n",
    "5.   Maximum Gap"
   ]
  },
  {
   "cell_type": "code",
   "execution_count": null,
   "metadata": {},
   "outputs": [],
   "source": []
  }
 ],
 "metadata": {
  "language_info": {
   "name": "python"
  }
 },
 "nbformat": 4,
 "nbformat_minor": 2
}
