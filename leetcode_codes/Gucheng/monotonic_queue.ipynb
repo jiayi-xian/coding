{
 "cells": [
  {
   "cell_type": "markdown",
   "metadata": {},
   "source": [
    "#### 239. Sliding Window Maximum\n",
    "#### 862 Shortest Subarray with Sum at Least K\n",
    "#### 1425 Constrained Subsequence Sum\n",
    "#### 1438 Longest Continuous Subarray With Absolute\n",
    "#### Diff Less Than or Equal to Limit \n",
    "#### 1696 Jump Game VI\n",
    "\n",
    "#### How to use monotonic queue\n",
    "- 去尾操作 : 队尾元素出队列。当队列有新元素待入队, 需要从队尾开始, 剂除影响队列单调性的元素, 维护队列的单调性。(删除一个队尾元素后, 就重新判断新的队尾元素)\n",
    "\n",
    "去尾操作结束后, 将该新元素入队列。\n",
    "- 明头操作：队头元素出队列。判断队头元素是否在待求解的区间之内, 如果不在, 就将其删除。（这个很好理解呀，因为单调队列的队头元素就是待求解区间的极值)\n",
    "- 取解操作：经过上面两个操作, 取出 队列的头元素, 就是 当前区间的极值。\n",
    "这里可以有不同的顺序, 只要保证\n",
    "1. 插入必须在去尾之后来维持单调性\n",
    "2. 根据不同题目来改变取解的具体位置"
   ]
  },
  {
   "cell_type": "code",
   "execution_count": null,
   "metadata": {
    "vscode": {
     "languageId": "plaintext"
    }
   },
   "outputs": [],
   "source": [
    "# 单调序列模版\n",
    "from collections import deque\n",
    "\n",
    "def monotonic_queue(nums, k):\n",
    "    N = len(nums)\n",
    "    q = deque()\n",
    "    res = [0] * (N - k + 1)\n",
    "\n",
    "    for i in range(N):\n",
    "        # Remove elements out of the current window\n",
    "        while q and i - q[0] >= k:\n",
    "            q.popleft()\n",
    "\n",
    "        # Remove elements not greater than the current element to maintain the monotonic property\n",
    "        while q and nums[q[-1]] <= nums[i]:\n",
    "            q.pop()\n",
    "\n",
    "        q.append(i)\n",
    "\n",
    "        # Starting from i = k - 1, we can start populating the result array\n",
    "        if i >= k - 1:\n",
    "            res[i - k + 1] = nums[q[0]]  # The front of the deque has the max element for the current window\n",
    "\n",
    "    return res\n",
    "\n",
    "# Example usage:\n",
    "nums = [1, 3, -1, -3, 5, 3, 6, 7]\n",
    "k = 3\n",
    "print(monotonic_queue(nums, k))  # Expected output: [3, 3, 5, 5, 6, 7]\n"
   ]
  }
 ],
 "metadata": {
  "language_info": {
   "name": "python"
  }
 },
 "nbformat": 4,
 "nbformat_minor": 2
}
