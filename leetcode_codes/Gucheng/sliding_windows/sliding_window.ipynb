{
 "cells": [
  {
   "cell_type": "markdown",
   "metadata": {},
   "source": [
    "# sliding windows\n",
    "#### 3 Longest Substring Without Repeating Characters\n",
    "#### 159 Longest Substring with At Most Two Distinct Characters\n",
    "#### 340 Longest Substring with At Most K Distinct Characters\n",
    "#### 395 Longest Substring with At Least K Repeating Characters\n",
    "395 Given a string $s$ and an integer $k$, return the length of the longest substring of $s$ such that the frequency of each character in this substring is greater than or equal to $k$.\n",
    "直接使用模版的话 无法确定window往前扩张还是收缩\n",
    "at most 26 repeating characters - at most k-1 re\n",
    "#### 209 Minimum Size Subarray Sum\n",
    "Given an array of $\\mathbf{n}$ positive integers and a positive integer $\\mathbf{s}$, find the minimal length of a contiguous subarray of which the sum $\\geq \\mathbf{s}$. If there isn't one, return 0 instead.\n",
    "#### 424 Longest Repeating Character Replacement\n",
    "最长重复字符串置换, 最多可以变 $\\mathrm{k}$ 个字符, 让 window里面全部都是同样的char，问最长\n",
    "模板题直接上模板, 注意这里说了只有单词, 可以开 26 空间的 count array。\n",
    "思路就是iterator不断前进, 然后如果改动过多就缩左边\n",
    "最后一路计算最长值\n",
    "记得出left character之后update windows max frequent char\n",
    "#### 992 Subarrays with K Different Integers\n",
    "If a subarray has $\\mathrm{K}$ distinct elements, then total subarrays will be $n^*(n+1) / 2$, which will include subarrays with $k-1, k-2, k-3 \\ldots 1$ distinct elements.\n",
    "套娃题\n",
    "example: $[1,2,3] \\mathrm{k}=1$\n",
    "res: [1] [2] [3] [1,2] [2,3] [1,2,3]\n",
    "res $=(1+3) * 3 / 2=6$ 高斯算法小于k都算\n",
    "res $=1+2+3=6 \\quad$ 等差数列求和公式\n",
    "#### 1248 Count Number of Nice Subarrays\n",
    "Given an array of integers nums and an integer $k$. A continuous subarray is called nice if there are $\\mathrm{k}$ odd numbers on it.\n",
    "\n",
    "Return the number of nice sub-arrays.\n",
    "套娃题, 直接模板。\n",
    "$\\operatorname{exact}(k)$ 转化为 $\\operatorname{atMost}(k)-\\operatorname{atMost}(k-1)$\n",
    "然后sliding window去找所有符合条件的 subarray, 再次高斯算法展开式求和\n",
    "#### Summary -- sliding window\n",
    "1. Sliding window 套路模板时间复杂度一般为 $O(n)$\n",
    "2. 一般string使用map作为window, 如果说明了只有小写字母也可以用int[26]\n",
    "3. 多重限制条件的压轴题需要考虑是否为单调队列, 在另一节PPT有详解\n",
    "4. 字母类还可以暴力尝试26个字母, 比如1个unique, 2个unique, 然后内部模板\n",
    "5. Exact $(k)$ 可以转换为 atMost $(k)-\\operatorname{atMost}(k-1)$"
   ]
  },
  {
   "cell_type": "code",
   "execution_count": null,
   "metadata": {
    "vscode": {
     "languageId": "plaintext"
    }
   },
   "outputs": [],
   "source": [
    "#### 1248 Count Number of Nice Subarrays\n",
    "\"\"\"\n",
    "Given an array of integers nums and an integer $k$. A continuous subarray is called nice if there are $\\mathrm{k}$ odd numbers on it.\n",
    "\n",
    "Return the number of nice sub-arrays.\n",
    "套娃题, 直接模板。\n",
    "$\\operatorname{exact}(k)$ 转化为 $\\operatorname{atMost}(k)-\\operatorname{atMost}(k-1)$\n",
    "然后sliding window去找所有符合条件的 subarray, 再次高斯算法展开式求和\n",
    "\"\"\"\n",
    "\n",
    "def length_of_longest_substring_k_distinct(s, k):\n",
    "    char_map = {}\n",
    "    left = 0\n",
    "    res = 0\n",
    "    \n",
    "    for i, cur in enumerate(s):\n",
    "        char_map[cur] = char_map.get(cur, 0) + 1  # Add current character to the map\n",
    "        \n",
    "        while len(char_map) > k:  # Shrink the window from the left\n",
    "            left_char = s[left]\n",
    "            char_map[left_char] -= 1\n",
    "            if char_map[left_char] == 0:\n",
    "                del char_map[left_char]  # Remove the char from map if count goes to 0\n",
    "            left += 1\n",
    "        \n",
    "        res = max(res, i - left + 1)  # Update result if we found a longer valid substring\n",
    "    \n",
    "    return res\n"
   ]
  },
  {
   "cell_type": "code",
   "execution_count": null,
   "metadata": {
    "vscode": {
     "languageId": "plaintext"
    }
   },
   "outputs": [],
   "source": [
    "# 209\n",
    "def solution(nums, s):\n",
    "\n",
    "    l, minL = 0, float(\"inf\")\n",
    "    arr_sum = 0\n",
    "    \n",
    "    for i in range(len(nums)):\n",
    "        num = nums[i]\n",
    "        arr_sum += num\n",
    "\n",
    "        while arr_sum > s:\n",
    "            left_num = nums[l]\n",
    "            arr_sum -= left_num\n",
    "            l += 1\n",
    "        \n",
    "        minL = min(minL, i - l + 2)\n",
    "    return minL\n"
   ]
  },
  {
   "cell_type": "code",
   "execution_count": null,
   "metadata": {
    "vscode": {
     "languageId": "plaintext"
    }
   },
   "outputs": [],
   "source": [
    "# longest substring with At least K repeating Characters\n",
    "# template 只适合 distinct Character 所以转化为 max length of substrings with at least K repeating Characters with x unique characters\n",
    "# when x from 1 to 26\n",
    "def longest_substring(s, k):\n",
    "    res = 0\n",
    "    for unique in range(1, 27):  # Assuming we are dealing with the English alphabet\n",
    "        char_map = {}\n",
    "        left = 0\n",
    "        valid_count = 0\n",
    "        for i in range(len(s)):\n",
    "            c = s[i]\n",
    "            char_map[c] = char_map.get(c, 0) + 1\n",
    "            if char_map[c] == k:\n",
    "                valid_count += 1\n",
    "            \n",
    "            while len(char_map) > unique:\n",
    "                left_char = s[left]\n",
    "                char_map[left_char] -= 1\n",
    "                if char_map[left_char] == 0:\n",
    "                    del char_map[left_char]\n",
    "                left += 1\n",
    "            \n",
    "            if len(char_map) == unique and valid_count == len(char_map):\n",
    "                res = max(res, i - left + 1)\n",
    "    return res\n",
    "\n",
    "# Example usage\n",
    "input_string = \"aabbcc\"\n",
    "k = 2\n",
    "print(longest_substring(input_string, k))  # Example output: This will depend on the input string and k\n"
   ]
  },
  {
   "cell_type": "markdown",
   "metadata": {},
   "source": [
    "# Jump game\n",
    "#### 55 Jump game\n"
   ]
  },
  {
   "cell_type": "code",
   "execution_count": null,
   "metadata": {
    "vscode": {
     "languageId": "plaintext"
    }
   },
   "outputs": [],
   "source": [
    "Pinterest app screen is two columns of images (pins).\n",
    "Each pin has a top and bottom index (top < bottom), and has a column represented by \"L\" or \"R\".\n",
    "Given an unsorted list of non-overlapping pins like\n",
    "\n",
    "pins = [(top_ind,bottom_ind,column),...,]\n",
    "and a screen_length of screen_len\n",
    "Return the maximum number of pins the user can possibly see (fully).\n",
    "That is, complete this:\n",
    "\n",
    "def get_max_pins(pins,screen_len):\n",
    "    max_pins = 0\n",
    "\t...\n",
    "    return max_pins\n",
    "Example:\n",
    "\n",
    "input:\n",
    "  pins = [(1,4,\"L\"),(2,3,\"R\"),(4,8,\"R\"),(6,9,\"L\")] \n",
    "  screen_len = 5\n",
    "output: 2"
   ]
  },
  {
   "cell_type": "code",
   "execution_count": null,
   "metadata": {
    "vscode": {
     "languageId": "plaintext"
    }
   },
   "outputs": [],
   "source": [
    "def solution(pins, L):\n",
    "\n",
    "    lpins = [pin for pin in pins if pin[2]== \"L\"]\n",
    "    rpins = [pin for pin in pins if pin[2]== \"R\"]\n",
    "    cur_t = pins[0][0]\n",
    "    cur_b = cur_t + L\n",
    "    j0, j1, k0, k1= 0, 0, 0, 0\n",
    "    max_cnt = 0\n",
    "    lpt, rpt = 0, 0\n",
    "\n",
    "    for i in range(len(pins)):\n",
    "        cur_t = pins[i][0]\n",
    "        cur_b = cur_t + L\n",
    "        flag = pins[i][2]\n",
    "        lpt += flag == \"L\"\n",
    "        rpt += flag == \"R\"\n",
    "        cur_cnt = 0\n",
    "        \n",
    "\n",
    "        if flag == \"R\":\n",
    "            while j0<=len(lpins)-1 and lpins[j0][0] < cur_t: # and pins[j0][2] == \"L\" count L pins\n",
    "                j0 += 1\n",
    "            j1 = max(j1, j0)\n",
    "        else:\n",
    "            j0 = lpt -1\n",
    "            j1 = j0\n",
    "        while j1 <= len(lpins)-1 and lpins[j1][1] <= cur_b:\n",
    "            j1 += 1\n",
    "        \n",
    "        cur_cnt += max(0, j1 - j0)\n",
    "\n",
    "        if flag == \"L\": \n",
    "            while k0<=len(rpins)-1 and rpins[k0][0] < cur_t:\n",
    "                k0 += 1\n",
    "            k1 = max(k1, k0)\n",
    "        else:\n",
    "            k0 = rpt -1\n",
    "            k1 = k0\n",
    "        while k1 <= len(rpins)-1 and rpins[k1][1] <= cur_b:\n",
    "            k1 += 1\n",
    "        \n",
    "        cur_cnt += max(0, k1 - k0)\n",
    "\n",
    "        max_cnt = max(max_cnt, cur_cnt)\n",
    "        print(cur_t, cur_b, j0, j1, k0, k1, cur_cnt)\n",
    "    \n",
    "    print(max_cnt)\n",
    "    print(lpins, \"\\n\", rpins)\n",
    "    return max_cnt\n",
    "\n",
    "\n",
    "pins = [(1,4,\"L\"),(2,3,\"R\"),(4,8,\"R\"),(6,9,\"L\")] \n",
    "screen_len = 5\n",
    "pins = [(1,4,\"L\"),(2,3,\"R\"),(4,10,\"R\"),(5,6,\"L\")]\n",
    "screen_len = 7\n",
    "pins = [(1,4,\"L\"),(2,3,\"R\"),(4,15,\"R\"),(5,6,\"L\")]\n",
    "screen_len = 7\n",
    "pins = [(1,4,\"L\"),(1,1,\"R\"),(2,2,\"R\"),(3,3,\"R\"), (4,5, \"L\")]\n",
    "screen_len = 2\n",
    "solution(pins, screen_len)"
   ]
  }
 ],
 "metadata": {
  "language_info": {
   "name": "python"
  }
 },
 "nbformat": 4,
 "nbformat_minor": 2
}
