{
 "cells": [
  {
   "cell_type": "markdown",
   "metadata": {},
   "source": [
    "1、交换律\n",
    "2、结合律 (a^b)^c == a^(b^c)\n",
    "3、对于任何数x，都有 x^x=0，x^0=x\n",
    "4、自反性: a^b^b=a^0=a;\n",
    "\n",
    "\n",
    "10 ^ 01 -> 11 i.e. 3\n",
    "11 ^ 01 -> 10 i.e. 2\n",
    "10 ^ 10 -> 0 i.e. 0\n"
   ]
  },
  {
   "cell_type": "code",
   "execution_count": 1,
   "metadata": {},
   "outputs": [
    {
     "name": "stdout",
     "output_type": "stream",
     "text": [
      "1 1\n",
      "2 3\n",
      "1 2\n",
      "2 0\n",
      "3 3\n",
      "4 7\n",
      "3 4\n",
      "4 0\n",
      "5 5\n",
      "5 0\n",
      "6 6\n",
      "7 1\n",
      "6 7\n",
      "8 15\n",
      "8 7\n"
     ]
    },
    {
     "data": {
      "text/plain": [
       "7"
      ]
     },
     "execution_count": 1,
     "metadata": {},
     "output_type": "execute_result"
    }
   ],
   "source": [
    "# 异或运算符（^）参加运算的两个对象，如果两个相应位相同为0，相异为1。\n",
    "\n",
    "def f2():\n",
    "    l1 = [1, 2, 1, 2, 3, 4, 3, 4, 5, 5, 6, 7, 6, 8, 8]\n",
    "    temp = 0\n",
    "    for i in l1:\n",
    "        temp ^= i\n",
    "        print(i, temp)\n",
    "    return temp\n",
    "\n",
    "f2()\n",
    "\n"
   ]
  },
  {
   "cell_type": "code",
   "execution_count": null,
   "metadata": {},
   "outputs": [],
   "source": [
    "# <<: left shift  111000 << 1 -> 110000 # 各二进位全部左移若干位，高位丢弃，低位补0\n",
    "# >> right shift 各二进位全部右移若干位，对无符号数，高位补0，有符号数，各编译器处理方法不一样，有的补符号位（算术右移），有的补0（逻辑右移"
   ]
  },
  {
   "cell_type": "code",
   "execution_count": 2,
   "metadata": {},
   "outputs": [],
   "source": [
    "\"\"\"\n",
    "0变1\n",
    "1变0\n",
    "\"\"\"\n",
    "def f(n):\n",
    "    return n ^ 1\n"
   ]
  },
  {
   "cell_type": "code",
   "execution_count": 1,
   "metadata": {},
   "outputs": [
    {
     "data": {
      "text/plain": [
       "0"
      ]
     },
     "execution_count": 1,
     "metadata": {},
     "output_type": "execute_result"
    }
   ],
   "source": [
    "a = bin(2342)\n",
    "int(a==1)"
   ]
  },
  {
   "cell_type": "code",
   "execution_count": null,
   "metadata": {},
   "outputs": [],
   "source": [
    "# 非负数返回1\n",
    "# 负数返回0\n",
    "def sign(n):\n",
    "    return flip(n >>> 31)"
   ]
  },
  {
   "cell_type": "code",
   "execution_count": 8,
   "metadata": {},
   "outputs": [
    {
     "name": "stdout",
     "output_type": "stream",
     "text": [
      "0b101\n",
      "0\n",
      "1\n",
      "-0b1010\n",
      "-\n",
      "0\n"
     ]
    }
   ],
   "source": [
    "# Define a function that takes a bit value as a parameter\n",
    "def check_sign(bit_value):\n",
    "    # Check the length of the bit value and make sure it is not empty\n",
    "    bit_value = bin(bit_value)\n",
    "    print(bit_value)\n",
    "    if len(bit_value) == 0:\n",
    "        return \"Error: bit value cannot be empty\"\n",
    "    # Check the most significant bit (MSB) of the bit value\n",
    "    msb = bit_value[0]\n",
    "    print(msb)\n",
    "    # Return 1 if the MSB is 0, and 0 if the MSB is 1\n",
    "    if msb == \"0\":\n",
    "        return 1\n",
    "    else:\n",
    "        return 0\n",
    "\n",
    "# Test the function with some examples\n",
    "print(check_sign(5)) # 1\n",
    "print(check_sign(-10)) # 0\n",
    "#print(check_sign(\"\"))"
   ]
  },
  {
   "cell_type": "code",
   "execution_count": 11,
   "metadata": {},
   "outputs": [],
   "source": [
    "# find the missed num in a lst\n",
    "n = 10\n",
    "lst = [0,1,2,3,4,5,6,7,9]\n",
    "\n",
    "def findMissing(n, lst):\n",
    "    eorAll, eor = 0, 0\n",
    "\n",
    "    for i in range(n):\n",
    "        eorAll ^= i\n",
    "        eor ^= lst[i]\n",
    "\n",
    "    return eorAll ^ eor"
   ]
  },
  {
   "cell_type": "code",
   "execution_count": null,
   "metadata": {},
   "outputs": [],
   "source": [
    "# Brian Kernighan algorithm\n",
    "# get the rightmost (least significant) 1\n",
    "\n",
    "\"\"\"\n",
    "   n: 01101000\n",
    "  ~n: 10010111\n",
    "~n+1: 10011000\n",
    "   n: 00110110\n",
    "  ~n: 11001001\n",
    "~n+1: 11001010\n",
    "注意看最右的1 它的左边~n与n全部相反 右边~n与n全是0\n",
    "关键是找到的是状态 00000010\n",
    "\"\"\"\n",
    "(~n) & n\n",
    "\n",
    "# 改某个位为1\n",
    "x = 5\n",
    "i = 2\n",
    "x = x | (1 << i)\n",
    "x |= (1 << i)"
   ]
  },
  {
   "cell_type": "code",
   "execution_count": 13,
   "metadata": {},
   "outputs": [
    {
     "data": {
      "text/plain": [
       "['0', 'b', '1', '0', '1', '1', '1']"
      ]
     },
     "execution_count": 13,
     "metadata": {},
     "output_type": "execute_result"
    }
   ],
   "source": [
    "bin(23)\n",
    "lst = []\n",
    "for i in bin(23):\n",
    "    lst.append(i)\n",
    "lst"
   ]
  },
  {
   "cell_type": "code",
   "execution_count": 17,
   "metadata": {},
   "outputs": [
    {
     "data": {
      "text/plain": [
       "{'a'}"
      ]
     },
     "execution_count": 17,
     "metadata": {},
     "output_type": "execute_result"
    }
   ],
   "source": [
    "set(\"aaa\")\n",
    "d = {\"a\": 3, \"b\":4}\n",
    "set(d.keys()).intersection(set(\"aaa\"))"
   ]
  },
  {
   "cell_type": "code",
   "execution_count": 20,
   "metadata": {},
   "outputs": [
    {
     "data": {
      "text/plain": [
       "'0b10000'"
      ]
     },
     "execution_count": 20,
     "metadata": {},
     "output_type": "execute_result"
    }
   ],
   "source": [
    "maxMask = 1 << 4\n",
    "maxMask\n",
    "bin(maxMask)"
   ]
  }
 ],
 "metadata": {
  "kernelspec": {
   "display_name": "py39",
   "language": "python",
   "name": "python3"
  },
  "language_info": {
   "codemirror_mode": {
    "name": "ipython",
    "version": 3
   },
   "file_extension": ".py",
   "mimetype": "text/x-python",
   "name": "python",
   "nbconvert_exporter": "python",
   "pygments_lexer": "ipython3",
   "version": "3.9.15"
  },
  "orig_nbformat": 4,
  "vscode": {
   "interpreter": {
    "hash": "84faba2c3d73f72195a31da7dbd07f0b601f44c80958afd4e19c4d66e3eef367"
   }
  }
 },
 "nbformat": 4,
 "nbformat_minor": 2
}
