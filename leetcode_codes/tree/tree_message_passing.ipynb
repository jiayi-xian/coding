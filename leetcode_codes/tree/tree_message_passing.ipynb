{
 "cells": [
  {
   "cell_type": "markdown",
   "metadata": {},
   "source": [
    "- 257. Binary Tree Paths\n",
    "- 1448. Count Good Nodes in Binary Tree\n",
    "- 124. Binary Tree Maximum Path Sum (hard)\n",
    "- 1120. Maximum Average Subtree\n",
    "- 1372. Longest ZigZag Path in a Binary Tree (0)\n",
    "- 1123. Lowest Common Ancestor of Deepest Leaves\n",
    "- 549. Binary Tree Longest Consecutive Sequence II (0)"
   ]
  },
  {
   "cell_type": "code",
   "execution_count": null,
   "metadata": {},
   "outputs": [],
   "source": [
    "# f(cur) = g(cur.left, cur.right, cur)\n",
    "## 1448. Count Good Nodes in Binary Tree\n",
    "def goodNodes(r, ma=-10000):\n",
    "    return self.goodNodes(r.left, max(ma, r.val)) + self.goodNodes(r.right, max(ma, r.val)) + (r.val >= ma) if r else 0"
   ]
  },
  {
   "cell_type": "code",
   "execution_count": null,
   "metadata": {},
   "outputs": [],
   "source": [
    "# 124 Binary Tree Maximum Path Sum\n",
    "# Definition for a binary tree node.\n",
    "# class TreeNode:\n",
    "#     def __init__(self, val=0, left=None, right=None):\n",
    "#         self.val = val\n",
    "#         self.left = left\n",
    "#         self.right = right\n",
    "class Solution:\n",
    "    def maxPathSum(self, root: Optional[TreeNode]) -> int:\n",
    "        # f(v) = max(f(neighbours of v)) + val(v)\n",
    "        # neighbours of v: from root -> v, v -> left leaves, right leaves\n",
    "        # the last two path needs recursion, return max_s from leaves to cur\n",
    "        score = {\"M\": -float(\"inf\")}\n",
    "        def help(node, s1):\n",
    "\n",
    "            if node is None:\n",
    "                return 0\n",
    "            \n",
    "            s1 = max(s1 + node.val, node.val)\n",
    "            sl = help(node.left, s1)\n",
    "            sr = help(node.right, s1)\n",
    "\n",
    "            score[\"M\"] = max(score[\"M\"], sl+node.val, sr+node.val, s1, sl+sr+node.val, s1 + sl, s1 + sr)\n",
    "\n",
    "            return max(sl + node.val, sr + node.val, node.val) # max(sl + node.val, sr + node.val)\n",
    "\n",
    "        if root is None:\n",
    "            return 0\n",
    "        help(root, 0)\n",
    "        return score[\"M\"]\n",
    "\n"
   ]
  },
  {
   "cell_type": "code",
   "execution_count": null,
   "metadata": {},
   "outputs": [],
   "source": [
    "## 257. Binary Tree Paths\n",
    "def binaryTreePaths(self, root: TreeNode) -> List[str]:\n",
    "    \n",
    "    result = []\n",
    "    \n",
    "    # ----------------------------------------\n",
    "    def helper(node, cur):\n",
    "        \n",
    "        if not node:\n",
    "            # base case\n",
    "            return\n",
    "        \n",
    "        \n",
    "        if not node.left and not node.right:\n",
    "            # stop condition\n",
    "            result.append( cur + [str(node.val)] )\n",
    "            \n",
    "        else:\n",
    "            # general case\n",
    "            helper(node.left, cur + [str(node.val)] )\n",
    "            helper(node.right, cur + [str(node.val)] )\n",
    "        \n",
    "        \n",
    "    # ----------------------------------------\n",
    "    \n",
    "    helper(node=root, cur=[])\n",
    "    return [ *map('->'.join, result) ]\n",
    "\n",
    "\n",
    "def binaryTreePaths(root: Optional[TreeNode]) -> List[str]:\n",
    "\n",
    "    paths = []\n",
    "\n",
    "    def dfs(root):\n",
    "        if root is None:\n",
    "            return []\n",
    "\n",
    "        left = dfs(root.left)\n",
    "        right = dfs(root.right)\n",
    "\n",
    "        extra_path = [str(root.val) + \"->\" + p for p in left ] + [str(root.val) + \"->\" + p for p in right]\n",
    "\n",
    "        return extra_path if extra_path else [str(root.val)]\n",
    "    \n",
    "    return dfs(root)"
   ]
  }
 ],
 "metadata": {
  "language_info": {
   "name": "python"
  }
 },
 "nbformat": 4,
 "nbformat_minor": 2
}
