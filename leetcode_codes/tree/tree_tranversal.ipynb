{
 "cells": [
  {
   "cell_type": "markdown",
   "metadata": {},
   "source": [
    "- 144. Binary Tree Preorder Traversal \n",
    "- 94. Binary Tree Inorder Traversal\n",
    "- 145. Binary Tree Postorder Traversal\n",
    "- 102. Binary Tree Level Order Traversal\n",
    "- 107. Binary Tree Level Order Traversal II\n",
    "- 103. Binary Tree Zigzag Level Order Traversal\n",
    "- 314. Binary Tree Vertical Order Traversal"
   ]
  },
  {
   "cell_type": "markdown",
   "metadata": {},
   "source": [
    "recursive 空间 complexity 计算"
   ]
  },
  {
   "cell_type": "code",
   "execution_count": 1,
   "metadata": {},
   "outputs": [],
   "source": [
    "from typing import *\n",
    "from collections import *\n",
    "import heapq\n",
    "from itertools import *"
   ]
  },
  {
   "cell_type": "code",
   "execution_count": null,
   "metadata": {},
   "outputs": [],
   "source": [
    "# 144. Binary Tree Preorder Traversal\n",
    "def preorderTraversal_recursive(root: TreeNode) -> list[int]:\n",
    "\n",
    "    def dfs(node):\n",
    "        if not node: return\n",
    "\n",
    "        ans.append(node.val)\n",
    "\n",
    "        dfs(node.left)\n",
    "        dfs(node.right)\n",
    "\n",
    "        return   \n",
    "    \n",
    "    ans = []\n",
    "    dfs(root)\n",
    "\n",
    "    return ans\n",
    "\n",
    "def preorderTraversal_compressed(root: TreeNode) -> list[int]:\n",
    "\n",
    "    return [] if not root else   ([root.val]+\n",
    "            self.preorderTraversal(root.left)+\n",
    "            self.preorderTraversal(root.right))\n",
    "\n",
    "\n",
    "def preorderTraversal_iterative(root: TreeNode) -> list[int]:\n",
    "\n",
    "                                        #  Ex: root = [1, 2,None, 3,4]\n",
    "    if not root: return []              #         __1\n",
    "    stack, ans = [root], []             #        /\n",
    "                                        #       2\n",
    "    while stack:                        #      / \\\n",
    "        node = stack.pop()              #     3   4\n",
    "        ans.append(node.val)            #\n",
    "                                        #     node     node.left   node.right  stack    ans\n",
    "        if node.right:                  #   –––––––––  –––––––––   –––––––––   ––––––  ––––––\n",
    "            stack.append(node.right)    #                                       [1]     []\n",
    "        if node. left:                  #       1          2         None       [2]     [1]\n",
    "            stack.append(node.left )    #       2          3          4         [4,3]   [1,2]\n",
    "                                        #       3        None        None       [4]     [1,2,3]\n",
    "                                        #       4        None        None       [4]     [1,2,3,4]\n",
    "    return ans  "
   ]
  },
  {
   "cell_type": "code",
   "execution_count": null,
   "metadata": {},
   "outputs": [],
   "source": [
    "def inorder_compressed(root):\n",
    "  return  inorder(root.left) + [root.val] + inorder(root.right) if root else []\n",
    "\n",
    "\n",
    "def inorderTraversal_recursive(root):\n",
    "  res = []\n",
    "\n",
    "  def dfs(root):\n",
    "\n",
    "    if not root:\n",
    "      return \n",
    "    \n",
    "    dfs(root.left)\n",
    "    res.append(root.val)\n",
    "    dfs(root.right)\n",
    "    return\n",
    "  \n",
    "  return res\n",
    "\n",
    "def inorderTraversal_interative(root):\n",
    "  res = []\n",
    "  stack = [root]\n",
    "  while stack:\n",
    "    node = stack.pop()\n",
    "    if node.left:\n",
    "      \n"
   ]
  },
  {
   "cell_type": "markdown",
   "metadata": {},
   "source": [
    "信息传递：\n",
    "1. 全局结果变量法 lst dct\n",
    "   1. 在tranverse过程中对 lst 或者 dct 进行改变\n",
    "   2. 不需要 return 具体的值\n",
    "   3. return 是到了尽头返回\n",
    "2. "
   ]
  }
 ],
 "metadata": {
  "kernelspec": {
   "display_name": "py39",
   "language": "python",
   "name": "python3"
  },
  "language_info": {
   "codemirror_mode": {
    "name": "ipython",
    "version": 3
   },
   "file_extension": ".py",
   "mimetype": "text/x-python",
   "name": "python",
   "nbconvert_exporter": "python",
   "pygments_lexer": "ipython3",
   "version": "3.9.12"
  }
 },
 "nbformat": 4,
 "nbformat_minor": 2
}
