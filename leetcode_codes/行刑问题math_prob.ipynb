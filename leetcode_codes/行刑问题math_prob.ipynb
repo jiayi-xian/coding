{
 "cells": [
  {
   "cell_type": "code",
   "execution_count": null,
   "metadata": {},
   "outputs": [],
   "source": [
    "import random\n",
    "\n",
    "def escape1(people, try_times, test_times):\n",
    "    escape = 0\n",
    "    for _ in range(test_times):\n",
    "        arr = generate_random_array(people)\n",
    "        if max_circle(arr) <= try_times:\n",
    "            escape += 1\n",
    "    return escape / test_times\n",
    "\n",
    "def max_circle(arr):\n",
    "    max_circle = 1\n",
    "    for i in range(len(arr)):\n",
    "        cur_circle = 1\n",
    "        while i != arr[i]:\n",
    "            swap(arr, i, arr[i])\n",
    "            cur_circle += 1\n",
    "        max_circle = max(max_circle, cur_circle)\n",
    "    return max_circle\n",
    "\n",
    "def generate_random_array(length):\n",
    "    arr = list(range(length))\n",
    "    for i in range(length - 1, 0, -1):\n",
    "        swap(arr, i, random.randint(0, i))\n",
    "    return arr\n",
    "\n",
    "def swap(arr, i, j):\n",
    "    arr[i], arr[j] = arr[j], arr[i]\n",
    "\n",
    "def escape2(people, try_times):\n",
    "    a = 0\n",
    "    for r in range(try_times + 1, people + 1):\n",
    "        a += 1 / r\n",
    "    return 1 - a\n",
    "\n",
    "def main():\n",
    "    people = 100\n",
    "    try_times = 50\n",
    "    test_times = 100000\n",
    "    print(\"Number of people:\", people)\n",
    "    print(\"Number of tries per person:\", try_times)\n",
    "    print(\"Number of simulation experiments:\", test_times)\n",
    "    print(\"Probability obtained through simulation:\", escape1(people, try_times, test_times))\n",
    "    print(\"Probability obtained through calculation:\", escape2(people, try_times))\n",
    "\n",
    "if __name__ == \"__main__\":\n",
    "    main()\n"
   ]
  }
 ],
 "metadata": {
  "language_info": {
   "name": "python"
  }
 },
 "nbformat": 4,
 "nbformat_minor": 2
}
