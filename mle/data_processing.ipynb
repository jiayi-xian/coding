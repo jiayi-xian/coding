{
 "cells": [
  {
   "cell_type": "code",
   "execution_count": null,
   "metadata": {},
   "outputs": [
    {
     "ename": "",
     "evalue": "",
     "output_type": "error",
     "traceback": [
      "\u001b[1;31mJupyter cannot be started. Error attempting to locate Jupyter: Running cells with 'Python 3.8.13 ('py38')' requires notebook package.\n",
      "\u001b[1;31mRun the following command to install 'jupyter and notebook' into the Python environment. \n",
      "\u001b[1;31mCommand: 'python -m pip install jupyter notebook -U\n",
      "\u001b[1;31mor\n",
      "\u001b[1;31mconda install jupyter notebook -U'\n",
      "\u001b[1;31mClick <a href='https://aka.ms/installJupyterForVSCode'>here</a> for more info."
     ]
    }
   ],
   "source": [
    "import numpy as np # linear algebra\n",
    "import pandas as pd # data processing, CSV file I/O (e.g. pd.read_csv)\n",
    "from sklearn.metrics import roc_auc_score\n",
    "from sklearn.preprocessing import LabelEncoder, StandardScaler \n",
    "from sklearn.compose import ColumnTransformer\n",
    "from sklearn.pipeline import make_pipeline\n",
    "#from lightgbm import LGBMClassifier\n",
    "#from category_encoders import OneHotEncoder\n",
    "from sklearn.model_selection import cross_val_predict\n",
    "from warnings import filterwarnings\n",
    "from sklearn.impute import SimpleImputer\n",
    "filterwarnings('ignore')\n",
    "import os\n",
    "print(os.listdir(\"../input\"))\n",
    "\n",
    "input_path = \"\"\n",
    "output_path = \"\"\n",
    "train = pd.read_csv(\"data/house price/train.csv\")\n",
    "print(\"train shape\", train.shape)\n",
    "test = pd.read_csv(\"data/house price/test.csv\")\n",
    "print(\"test shape\", test.shape)\n",
    "\n",
    "target_column = \"target\"\n",
    "id_column = \"id\"\n",
    "categorical_cols = [c for c in test.columns if test[c].dtype in [np.object]]\n",
    "numerical_cols = [c for c in test.columns if test[c].dtype in [np.float, np.int] and c not in [target_column, id_column]]\n",
    "print(\"Number of features\", len(categorical_cols)+len(numerical_cols))\n",
    "\n",
    "# lightGBM\n",
    "\n",
    "\"\"\"classifier = make_pipeline(\n",
    "    ColumnTransformer([('num', StandardScaler(), numerical_cols), ('cat', OneHotEncoder(), categorical_cols),]), \\\n",
    "        LGBMClassifier(n_jobs=-1))\n",
    "\n",
    "oof_pred = cross_val_predict(classifier, train, train[target_column], cv=5, method=\"predict_proba\")\"\"\""
   ]
  },
  {
   "cell_type": "code",
   "execution_count": null,
   "metadata": {},
   "outputs": [
    {
     "ename": "",
     "evalue": "",
     "output_type": "error",
     "traceback": [
      "\u001b[1;31mJupyter cannot be started. Error attempting to locate Jupyter: Running cells with 'Python 3.8.13 ('py38')' requires notebook package.\n",
      "\u001b[1;31mRun the following command to install 'jupyter and notebook' into the Python environment. \n",
      "\u001b[1;31mCommand: 'python -m pip install jupyter notebook -U\n",
      "\u001b[1;31mor\n",
      "\u001b[1;31mconda install jupyter notebook -U'\n",
      "\u001b[1;31mClick <a href='https://aka.ms/installJupyterForVSCode'>here</a> for more info."
     ]
    }
   ],
   "source": [
    "df = pd.read_csv(input_path)"
   ]
  },
  {
   "cell_type": "code",
   "execution_count": null,
   "metadata": {},
   "outputs": [
    {
     "ename": "",
     "evalue": "",
     "output_type": "error",
     "traceback": [
      "\u001b[1;31mJupyter cannot be started. Error attempting to locate Jupyter: Running cells with 'Python 3.8.13 ('py38')' requires notebook package.\n",
      "\u001b[1;31mRun the following command to install 'jupyter and notebook' into the Python environment. \n",
      "\u001b[1;31mCommand: 'python -m pip install jupyter notebook -U\n",
      "\u001b[1;31mor\n",
      "\u001b[1;31mconda install jupyter notebook -U'\n",
      "\u001b[1;31mClick <a href='https://aka.ms/installJupyterForVSCode'>here</a> for more info."
     ]
    }
   ],
   "source": [
    "# Get categorical features and quantitative features\n",
    "quantitative = [f for f in train.columns if train.dtypes[f] != 'object']\n",
    "categorical = [f for f in train.columns if train.dtypes[f] == 'object']"
   ]
  },
  {
   "cell_type": "code",
   "execution_count": null,
   "metadata": {},
   "outputs": [
    {
     "ename": "",
     "evalue": "",
     "output_type": "error",
     "traceback": [
      "\u001b[1;31mJupyter cannot be started. Error attempting to locate Jupyter: Running cells with 'Python 3.8.13 ('py38')' requires notebook package.\n",
      "\u001b[1;31mRun the following command to install 'jupyter and notebook' into the Python environment. \n",
      "\u001b[1;31mCommand: 'python -m pip install jupyter notebook -U\n",
      "\u001b[1;31mor\n",
      "\u001b[1;31mconda install jupyter notebook -U'\n",
      "\u001b[1;31mClick <a href='https://aka.ms/installJupyterForVSCode'>here</a> for more info."
     ]
    }
   ],
   "source": [
    "# count conditions matching\n",
    "df_bool = (df == 'CA')\n",
    "df_bool.sum()\n",
    "df_bool.sum(axis = 1)\n",
    "df_bool.sum().sum()\n"
   ]
  },
  {
   "cell_type": "code",
   "execution_count": null,
   "metadata": {},
   "outputs": [
    {
     "ename": "",
     "evalue": "",
     "output_type": "error",
     "traceback": [
      "\u001b[1;31mJupyter cannot be started. Error attempting to locate Jupyter: Running cells with 'Python 3.8.13 ('py38')' requires notebook package.\n",
      "\u001b[1;31mRun the following command to install 'jupyter and notebook' into the Python environment. \n",
      "\u001b[1;31mCommand: 'python -m pip install jupyter notebook -U\n",
      "\u001b[1;31mor\n",
      "\u001b[1;31mconda install jupyter notebook -U'\n",
      "\u001b[1;31mClick <a href='https://aka.ms/installJupyterForVSCode'>here</a> for more info."
     ]
    }
   ],
   "source": [
    "def different_ways_fillna():\n",
    "    df.fillna(0)\n",
    "    # Filling null value with the previous ones\n",
    "    df.fillna(method ='pad')\n",
    "    # Filling null value with the next ones \n",
    "    df.fillna(method ='bfill')\n",
    "    # filling a null values using fillna()\n",
    "    df[\"Gender\"].fillna(\"No Gender\", inplace = True)\n",
    "    # will replace  Nan value in dataframe with value -99 \n",
    "    df.replace(to_replace = np.nan, value = -99)\n",
    "    # to interpolate the missing values\n",
    "    df.interpolate(method ='linear', limit_direction ='forward')"
   ]
  },
  {
   "cell_type": "code",
   "execution_count": null,
   "metadata": {},
   "outputs": [
    {
     "ename": "",
     "evalue": "",
     "output_type": "error",
     "traceback": [
      "\u001b[1;31mJupyter cannot be started. Error attempting to locate Jupyter: Running cells with 'Python 3.8.13 ('py38')' requires notebook package.\n",
      "\u001b[1;31mRun the following command to install 'jupyter and notebook' into the Python environment. \n",
      "\u001b[1;31mCommand: 'python -m pip install jupyter notebook -U\n",
      "\u001b[1;31mor\n",
      "\u001b[1;31mconda install jupyter notebook -U'\n",
      "\u001b[1;31mClick <a href='https://aka.ms/installJupyterForVSCode'>here</a> for more info."
     ]
    }
   ],
   "source": [
    "\n",
    "feature = \"\"\n",
    "na_replace = \"\"\n",
    "# total missing value in each columns\n",
    "df.isnull().sum()\n",
    "\n",
    "# creating bool series True for NaN values\n",
    "bool_series = pd.isnull(df[feature])\n",
    "\n",
    "# filling na\n",
    "# filling a null values using fillna()\n",
    "df[feature].fillna(na_replace, inplace = True)"
   ]
  },
  {
   "cell_type": "markdown",
   "metadata": {},
   "source": [
    "## drop values/ entries"
   ]
  },
  {
   "cell_type": "code",
   "execution_count": null,
   "metadata": {},
   "outputs": [
    {
     "ename": "",
     "evalue": "",
     "output_type": "error",
     "traceback": [
      "\u001b[1;31mJupyter cannot be started. Error attempting to locate Jupyter: Running cells with 'Python 3.8.13 ('py38')' requires notebook package.\n",
      "\u001b[1;31mRun the following command to install 'jupyter and notebook' into the Python environment. \n",
      "\u001b[1;31mCommand: 'python -m pip install jupyter notebook -U\n",
      "\u001b[1;31mor\n",
      "\u001b[1;31mconda install jupyter notebook -U'\n",
      "\u001b[1;31mClick <a href='https://aka.ms/installJupyterForVSCode'>here</a> for more info."
     ]
    }
   ],
   "source": [
    "df.dropna(axis = 1)\n",
    "df = df.dropna(axis = 0, how ='any')"
   ]
  },
  {
   "cell_type": "code",
   "execution_count": null,
   "metadata": {},
   "outputs": [
    {
     "ename": "",
     "evalue": "",
     "output_type": "error",
     "traceback": [
      "\u001b[1;31mJupyter cannot be started. Error attempting to locate Jupyter: Running cells with 'Python 3.8.13 ('py38')' requires notebook package.\n",
      "\u001b[1;31mRun the following command to install 'jupyter and notebook' into the Python environment. \n",
      "\u001b[1;31mCommand: 'python -m pip install jupyter notebook -U\n",
      "\u001b[1;31mor\n",
      "\u001b[1;31mconda install jupyter notebook -U'\n",
      "\u001b[1;31mClick <a href='https://aka.ms/installJupyterForVSCode'>here</a> for more info."
     ]
    }
   ],
   "source": [
    "dropna_cols = [\"\", \"\"]\n",
    "df = df.dropna(subset=dropna_cols)"
   ]
  },
  {
   "cell_type": "code",
   "execution_count": null,
   "metadata": {},
   "outputs": [
    {
     "ename": "",
     "evalue": "",
     "output_type": "error",
     "traceback": [
      "\u001b[1;31mJupyter cannot be started. Error attempting to locate Jupyter: Running cells with 'Python 3.8.13 ('py38')' requires notebook package.\n",
      "\u001b[1;31mRun the following command to install 'jupyter and notebook' into the Python environment. \n",
      "\u001b[1;31mCommand: 'python -m pip install jupyter notebook -U\n",
      "\u001b[1;31mor\n",
      "\u001b[1;31mconda install jupyter notebook -U'\n",
      "\u001b[1;31mClick <a href='https://aka.ms/installJupyterForVSCode'>here</a> for more info."
     ]
    }
   ],
   "source": [
    "def dropna():\n",
    "    df.dropna()\n",
    "    # Dropping rows if all values in that row are missing. \n",
    "    df = df.dropna(how = 'all')\n",
    "    # drop any entries when it is na in specified columns.\n",
    "    df = df.dropna(subset=['name', 'toy'])\n",
    "    # dropping columns if it has at least one nan value\n",
    "    df = df.dropna(axis = 0, how ='any')\n",
    "    df = df.dropna(axis = 1)"
   ]
  },
  {
   "cell_type": "markdown",
   "metadata": {},
   "source": [
    "# deal with imbalanced dataset"
   ]
  },
  {
   "cell_type": "code",
   "execution_count": null,
   "metadata": {},
   "outputs": [
    {
     "ename": "",
     "evalue": "",
     "output_type": "error",
     "traceback": [
      "\u001b[1;31mJupyter cannot be started. Error attempting to locate Jupyter: Running cells with 'Python 3.8.13 ('py38')' requires notebook package.\n",
      "\u001b[1;31mRun the following command to install 'jupyter and notebook' into the Python environment. \n",
      "\u001b[1;31mCommand: 'python -m pip install jupyter notebook -U\n",
      "\u001b[1;31mor\n",
      "\u001b[1;31mconda install jupyter notebook -U'\n",
      "\u001b[1;31mClick <a href='https://aka.ms/installJupyterForVSCode'>here</a> for more info."
     ]
    }
   ],
   "source": [
    "# check data imbalance\n",
    "df.Class.value_counts() # class -> label column\n",
    "len(df.loc[df.Class==1]) / len(df.loc[df.Class == 0])"
   ]
  },
  {
   "cell_type": "code",
   "execution_count": null,
   "metadata": {},
   "outputs": [
    {
     "ename": "",
     "evalue": "",
     "output_type": "error",
     "traceback": [
      "\u001b[1;31mJupyter cannot be started. Error attempting to locate Jupyter: Running cells with 'Python 3.8.13 ('py38')' requires notebook package.\n",
      "\u001b[1;31mRun the following command to install 'jupyter and notebook' into the Python environment. \n",
      "\u001b[1;31mCommand: 'python -m pip install jupyter notebook -U\n",
      "\u001b[1;31mor\n",
      "\u001b[1;31mconda install jupyter notebook -U'\n",
      "\u001b[1;31mClick <a href='https://aka.ms/installJupyterForVSCode'>here</a> for more info."
     ]
    }
   ],
   "source": [
    "# deal with imbalance dataset (resampling)\n",
    "majority = X[X.Class==0]\n",
    "minority = X[X.Class==1]\n",
    "\n",
    "\n",
    "from sklearn.utils import resample\n",
    "# upsample minority\n",
    "minority_upsampled = resample(minority,\n",
    "                        replace=True, # sample with replacement\n",
    "                        n_samples=len(majority), # match number in majority class\n",
    "                        random_state=27) # reproducible results\n",
    "\n",
    "# combine majority and upsampled minority\n",
    "data_upsampled = pd.concat([majority, minority_upsampled])"
   ]
  },
  {
   "cell_type": "markdown",
   "metadata": {},
   "source": [
    "# analysis of correlation"
   ]
  },
  {
   "cell_type": "code",
   "execution_count": null,
   "metadata": {},
   "outputs": [
    {
     "ename": "",
     "evalue": "",
     "output_type": "error",
     "traceback": [
      "\u001b[1;31mJupyter cannot be started. Error attempting to locate Jupyter: Running cells with 'Python 3.8.13 ('py38')' requires notebook package.\n",
      "\u001b[1;31mRun the following command to install 'jupyter and notebook' into the Python environment. \n",
      "\u001b[1;31mCommand: 'python -m pip install jupyter notebook -U\n",
      "\u001b[1;31mor\n",
      "\u001b[1;31mconda install jupyter notebook -U'\n",
      "\u001b[1;31mClick <a href='https://aka.ms/installJupyterForVSCode'>here</a> for more info."
     ]
    }
   ],
   "source": [
    "import numpy as np\n",
    "\n",
    "# Create correlation matrix\n",
    "corr_matrix = df.corr().abs()\n",
    "\n",
    "# Select upper triangle of correlation matrix\n",
    "upper = corr_matrix.where(np.triu(np.ones(corr_matrix.shape), k=1).astype(np.bool))\n",
    "# corr_matrix.where((np.triu(np.ones(corr_matrix.shape), k=1) + np.tril(np.ones(corr_matrix.shape), k=-1)).astype(bool))\n",
    "# Find features with correlation greater than 0.95\n",
    "to_drop = [column for column in upper.columns if any(upper[column] > 0.95)]\n",
    "\n",
    "# Drop features \n",
    "df.drop(to_drop, axis=1, inplace=True)"
   ]
  },
  {
   "cell_type": "code",
   "execution_count": null,
   "metadata": {},
   "outputs": [
    {
     "ename": "",
     "evalue": "",
     "output_type": "error",
     "traceback": [
      "\u001b[1;31mJupyter cannot be started. Error attempting to locate Jupyter: Running cells with 'Python 3.8.13 ('py38')' requires notebook package.\n",
      "\u001b[1;31mRun the following command to install 'jupyter and notebook' into the Python environment. \n",
      "\u001b[1;31mCommand: 'python -m pip install jupyter notebook -U\n",
      "\u001b[1;31mor\n",
      "\u001b[1;31mconda install jupyter notebook -U'\n",
      "\u001b[1;31mClick <a href='https://aka.ms/installJupyterForVSCode'>here</a> for more info."
     ]
    }
   ],
   "source": [
    "from pandas import factorize\n",
    "\n",
    "labels, categories = factorize(df[\"Light_Sensor_Status\"])\n",
    "df[\"labels\"] = labels\n",
    "abs(df[\"Light_Sensor_Reading\"].corr(df[\"labels\"]))"
   ]
  },
  {
   "cell_type": "code",
   "execution_count": null,
   "metadata": {},
   "outputs": [
    {
     "ename": "",
     "evalue": "",
     "output_type": "error",
     "traceback": [
      "\u001b[1;31mJupyter cannot be started. Error attempting to locate Jupyter: Running cells with 'Python 3.8.13 ('py38')' requires notebook package.\n",
      "\u001b[1;31mRun the following command to install 'jupyter and notebook' into the Python environment. \n",
      "\u001b[1;31mCommand: 'python -m pip install jupyter notebook -U\n",
      "\u001b[1;31mor\n",
      "\u001b[1;31mconda install jupyter notebook -U'\n",
      "\u001b[1;31mClick <a href='https://aka.ms/installJupyterForVSCode'>here</a> for more info."
     ]
    }
   ],
   "source": []
  },
  {
   "cell_type": "markdown",
   "metadata": {},
   "source": [
    "# training"
   ]
  },
  {
   "cell_type": "code",
   "execution_count": null,
   "metadata": {},
   "outputs": [
    {
     "ename": "",
     "evalue": "",
     "output_type": "error",
     "traceback": [
      "\u001b[1;31mJupyter cannot be started. Error attempting to locate Jupyter: Running cells with 'Python 3.8.13 ('py38')' requires notebook package.\n",
      "\u001b[1;31mRun the following command to install 'jupyter and notebook' into the Python environment. \n",
      "\u001b[1;31mCommand: 'python -m pip install jupyter notebook -U\n",
      "\u001b[1;31mor\n",
      "\u001b[1;31mconda install jupyter notebook -U'\n",
      "\u001b[1;31mClick <a href='https://aka.ms/installJupyterForVSCode'>here</a> for more info."
     ]
    }
   ],
   "source": [
    "from sklearn.model_selection import train_test_split\n",
    "X = df.drop('Class', axis=1)\n",
    "Y = df[\"Class\"]\n",
    "X_train, X_test, y_train, y_test = train_test_split(X, Y, test_size=0.25, random_state=27)"
   ]
  },
  {
   "cell_type": "code",
   "execution_count": null,
   "metadata": {},
   "outputs": [
    {
     "ename": "",
     "evalue": "",
     "output_type": "error",
     "traceback": [
      "\u001b[1;31mJupyter cannot be started. Error attempting to locate Jupyter: Running cells with 'Python 3.8.13 ('py38')' requires notebook package.\n",
      "\u001b[1;31mRun the following command to install 'jupyter and notebook' into the Python environment. \n",
      "\u001b[1;31mCommand: 'python -m pip install jupyter notebook -U\n",
      "\u001b[1;31mor\n",
      "\u001b[1;31mconda install jupyter notebook -U'\n",
      "\u001b[1;31mClick <a href='https://aka.ms/installJupyterForVSCode'>here</a> for more info."
     ]
    }
   ],
   "source": [
    "from sklearn.preprocessing import LabelEncoder, StandardScaler \n",
    "from sklearn.compose import ColumnTransformer\n",
    "from sklearn.metrics import accuracy_score, f1_score, confusion_matrix, recall_score\n"
   ]
  },
  {
   "cell_type": "code",
   "execution_count": null,
   "metadata": {},
   "outputs": [
    {
     "ename": "",
     "evalue": "",
     "output_type": "error",
     "traceback": [
      "\u001b[1;31mJupyter cannot be started. Error attempting to locate Jupyter: Running cells with 'Python 3.8.13 ('py38')' requires notebook package.\n",
      "\u001b[1;31mRun the following command to install 'jupyter and notebook' into the Python environment. \n",
      "\u001b[1;31mCommand: 'python -m pip install jupyter notebook -U\n",
      "\u001b[1;31mor\n",
      "\u001b[1;31mconda install jupyter notebook -U'\n",
      "\u001b[1;31mClick <a href='https://aka.ms/installJupyterForVSCode'>here</a> for more info."
     ]
    }
   ],
   "source": [
    "from sklearn.ensemble import RandomForestClassifier\n",
    "rfc = RandomForestClassifier(n_estimators=10).fit(X_train, y_train)\n",
    "# predict on test set\n",
    "rfc_pred = rfc.predict(X_test)\n",
    "\n",
    "accuracy_score(y_test, rfc_pred)\n",
    "f1_score(y_test, rfc_pred)\n",
    "pd.DataFrame(confusion_matrix(y_test, rfc_pred))\n",
    "recall_score(y_test, rfc_pred)"
   ]
  },
  {
   "cell_type": "code",
   "execution_count": null,
   "metadata": {},
   "outputs": [
    {
     "ename": "",
     "evalue": "",
     "output_type": "error",
     "traceback": [
      "\u001b[1;31mJupyter cannot be started. Error attempting to locate Jupyter: Running cells with 'Python 3.8.13 ('py38')' requires notebook package.\n",
      "\u001b[1;31mRun the following command to install 'jupyter and notebook' into the Python environment. \n",
      "\u001b[1;31mCommand: 'python -m pip install jupyter notebook -U\n",
      "\u001b[1;31mor\n",
      "\u001b[1;31mconda install jupyter notebook -U'\n",
      "\u001b[1;31mClick <a href='https://aka.ms/installJupyterForVSCode'>here</a> for more info."
     ]
    }
   ],
   "source": [
    "from sklearn.linear_model import LogisticRegression\n",
    "lr = LogisticRegression(solver='liblinear').fit(X_train, y_train)\n",
    "# predict on test set\n",
    "lr_pred = lr.predict(X_test)\n",
    "\n",
    "accuracy_score(y_test, lr_pred)\n",
    "f1_score(y_test, lr_pred)\n",
    "pd.DataFrame(confusion_matrix(y_test, lr_pred))\n",
    "recall_score(y_test, lr_pred)"
   ]
  },
  {
   "cell_type": "code",
   "execution_count": null,
   "metadata": {},
   "outputs": [
    {
     "ename": "",
     "evalue": "",
     "output_type": "error",
     "traceback": [
      "\u001b[1;31mJupyter cannot be started. Error attempting to locate Jupyter: Running cells with 'Python 3.8.13 ('py38')' requires notebook package.\n",
      "\u001b[1;31mRun the following command to install 'jupyter and notebook' into the Python environment. \n",
      "\u001b[1;31mCommand: 'python -m pip install jupyter notebook -U\n",
      "\u001b[1;31mor\n",
      "\u001b[1;31mconda install jupyter notebook -U'\n",
      "\u001b[1;31mClick <a href='https://aka.ms/installJupyterForVSCode'>here</a> for more info."
     ]
    }
   ],
   "source": [
    "def datapipeline(path):\n",
    "\n",
    "    df = pd.read_csv(path)\n",
    "   \n",
    "\n",
    "    # You can count missing values in each column by default, and in each row with axis=1\n",
    "    df.isnull().sum()\n",
    "    df.isnull().sum(axis = 1)\n",
    "    df.count()\n",
    "    df.count(axis=1)\n",
    "\n",
    "    # check if there is at least one nan value\n",
    "    df.isnull().values.sum() != 0\n",
    "    # check if there is at least one not nan value\n",
    "    df.isnull().values.sum() == df.size\n",
    "\n",
    "    # For series\n",
    "    s = df['state']\n",
    "    print(s)\n",
    "    # 0     NY\n",
    "    # 1    NaN\n",
    "    # 2     CA\n",
    "    # Name: state, dtype: object\n",
    "\n",
    "    print(s.isnull())\n",
    "    # 0    False\n",
    "    # 1     True\n",
    "    # 2    False\n",
    "    # Name: state, dtype: bool\n",
    "\n",
    "    print(s.notnull())\n",
    "    # 0     True\n",
    "    # 1    False\n",
    "    # 2     True\n",
    "    # Name: state, dtype: bool\n",
    "\n",
    "    print(s.isnull().any())\n",
    "    # True\n",
    "\n",
    "    print(s.isnull().all())\n",
    "    # False\n",
    "\n",
    "    print(s.isnull().sum())\n",
    "    # 1\n",
    "\n",
    "    print(s.count())\n",
    "    # 2\n",
    "\n",
    "\n",
    "\n",
    "\n",
    "    from sklearn.model_selection import train_test_split\n",
    "    from sklearn.linear_model import LogisticRegression\n",
    "    from sklearn.dummy import DummyClassifier\n",
    "    from sklearn.metrics import accuracy_score, f1_score, confusion_matrix, recall_score\n",
    "    \n",
    "    dummy = DummyClassifier(strategy='most_frequent').fit(X_train, y_train)\n",
    "    dummy_pred = dummy.predict(X_test)\n",
    "    accuracy_score(y_test, dummy_pred)\n",
    "\n",
    "\n",
    "    # Modeling the data as is\n",
    "    # Train model\n",
    "    lr = LogisticRegression(solver='liblinear').fit(X_train, y_train)\n",
    "    \n",
    "    # Predict on training set\n",
    "    lr_pred = lr.predict(X_test)\n",
    "    # Checking accuracy\n",
    "    accuracy_score(y_test, lr_pred)\n",
    "    predictions = pd.DataFrame(lr_pred)\n",
    "    predictions[0].value_counts()\n",
    "\n",
    "\n",
    "\n",
    "    # train model\n",
    "    rfc = RandomForestClassifier(n_estimators=10).fit(X_train, y_train)\n",
    "\n",
    "    # predict on test set\n",
    "    rfc_pred = rfc.predict(X_test)\n",
    "\n",
    "    accuracy_score(y_test, rfc_pred)\n",
    "    0.999592708069998\n",
    "    # f1 score\n",
    "    f1_score(y_test, rfc_pred)\n",
    "    pd.DataFrame(confusion_matrix(y_test, rfc_pred))\n",
    "    recall_score(y_test, rfc_pred)\n",
    "\n",
    "\n",
    "    # deal with imbalance dataset (resampling)\n",
    "    not_fraud = X[X.Class==0]\n",
    "    fraud = X[X.Class==1]\n",
    "\n",
    "    # upsample minority\n",
    "    fraud_upsampled = resample(fraud,\n",
    "                            replace=True, # sample with replacement\n",
    "                            n_samples=len(not_fraud), # match number in majority class\n",
    "                            random_state=27) # reproducible results\n",
    "\n",
    "    # combine majority and upsampled minority\n",
    "    upsampled = pd.concat([not_fraud, fraud_upsampled])\n",
    "\n",
    "    # check new class counts\n",
    "    upsampled.Class.value_counts()\n",
    "    y_train = upsampled.Class\n",
    "    X_train = upsampled.drop('Class', axis=1)\n",
    "\n",
    "    upsampled = LogisticRegression(solver='liblinear').fit(X_train, y_train)\n",
    "\n",
    "    upsampled_pred = upsampled.predict(X_test)\n",
    "\n",
    "    # downsample majority\n",
    "    # still using our separated classes fraud and not_fraud from above\n",
    "\n",
    "    # downsample majority\n",
    "    not_fraud_downsampled = resample(not_fraud,\n",
    "                                    replace = False, # sample without replacement\n",
    "                                    n_samples = len(fraud), # match minority n\n",
    "                                    random_state = 27) # reproducible results\n",
    "\n",
    "    # combine minority and downsampled majority\n",
    "    downsampled = pd.concat([not_fraud_downsampled, fraud])\n",
    "\n",
    "    # checking counts\n",
    "    downsampled.Class.value_counts()\n",
    "\n",
    "    \"\"\"Method 1: Rename Specific Columns df. rename(columns = {'old_col1':'new_col1', 'old_col2':'new_col2'}, inplace = True)\n",
    "    Method 2: Rename All Columns df. columns = ['new_col1', 'new_col2', 'new_col3', 'new_col4']\n",
    "    Method 3: Replace Specific Characters in Columns df.\"\"\"\n",
    "    #Drop the rows where all elements are missing.\n",
    "\n",
    "    df.dropna(how='all')\n",
    "\n",
    "    # Keep only the rows with at least 2 non-NA values.\n",
    "\n",
    "    df.dropna(thresh=2) \n",
    "    # drop columns: df.drop(['B', 'C'], axis=1), df.drop(columns=['B', 'C'])\n",
    "\n",
    "    # drop duplicate\n",
    "    df.drop_duplicates()\n",
    "    df.drop_duplicates(subset=[''])\n",
    "    #To remove duplicates and keep last occurrences, use keep.\n",
    "\n",
    "    df.drop_duplicates(subset=['brand', 'style'], keep='last')"
   ]
  }
 ],
 "metadata": {
  "kernelspec": {
   "display_name": "Python 3.8.13 ('py38')",
   "language": "python",
   "name": "python3"
  },
  "language_info": {
   "name": "python",
   "version": "3.8.13"
  },
  "orig_nbformat": 4,
  "vscode": {
   "interpreter": {
    "hash": "c0f14c7cf8eecca91c0ab3dfcbec784b05523d454463c7f1685f826f3896c3e8"
   }
  }
 },
 "nbformat": 4,
 "nbformat_minor": 2
}
