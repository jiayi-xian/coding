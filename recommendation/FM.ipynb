{
 "cells": [
  {
   "cell_type": "code",
   "execution_count": null,
   "metadata": {},
   "outputs": [],
   "source": [
    "import numpy as np\n",
    "\n",
    "def sigmoid(x):\n",
    "    return 1 / (1 + np.exp(-x))\n",
    "\n",
    "def factorization_machine(X, Y, Vi, learning_rate=0.01, epochs=100):\n",
    "    N, M = X.shape\n",
    "    K = Vi.shape[0]\n",
    "\n",
    "    # Initialize model parameters\n",
    "    W_0 = 0.0\n",
    "    W = np.zeros(M)\n",
    "    V = np.random.randn(M, K)  # Initialize latent factors randomly\n",
    "\n",
    "    for epoch in range(epochs):\n",
    "        linear_term = W_0 + np.dot(X, W)\n",
    "        interaction_term = 0.5 * np.sum(np.dot(X, V) ** 2 - np.dot(X ** 2, V ** 2), axis=1)\n",
    "        y_pred = linear_term + interaction_term\n",
    "        error = y_pred - Y\n",
    "\n",
    "        grad_W_0 = np.mean(error)\n",
    "        grad_W = np.dot(X.T, error) / N\n",
    "        grad_V = np.dot(X.T, (error[:, np.newaxis] * (np.dot(X, V) - X.dot(V ** 2))).reshape(N, M, K)) / N\n",
    "\n",
    "        # Update model parameters using gradient descent\n",
    "        W_0 -= learning_rate * grad_W_0\n",
    "        W -= learning_rate * grad_W\n",
    "        V -= learning_rate * grad_V\n",
    "\n",
    "    return W_0, W, V\n",
    "\n",
    "# Example usage\n",
    "N = 1000  # Number of data points\n",
    "M = 10   # Number of features\n",
    "K = 5    # Number of latent factors\n",
    "\n",
    "X = np.random.rand(N, M)\n",
    "Y = np.random.rand(N)\n",
    "Vi = np.random.rand(K)\n",
    "\n",
    "W_0, W, V = factorization_machine(X, Y, Vi)\n"
   ]
  }
 ],
 "metadata": {
  "language_info": {
   "name": "python"
  }
 },
 "nbformat": 4,
 "nbformat_minor": 2
}
